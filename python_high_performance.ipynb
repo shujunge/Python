{
 "cells": [
  {
   "cell_type": "markdown",
   "metadata": {},
   "source": [
    "# 第一章 理解高性能 Python"
   ]
  },
  {
   "cell_type": "markdown",
   "metadata": {},
   "source": [
    "## 基本的计算机系统\n",
    "一台计算机的底层组件可被分为三大基本部分:\n",
    "* 计算单元:计算单元有一个属性告诉我们它每秒能够进行多少次计算\n",
    "* 存储单元:存储单元有一个属性告诉我们它能保存多少数据,还有一个属性告诉我们能以多快的速度对它进行读写\n",
    "* 以及两者之间的连接:而连接则有一个属性告诉我们它们能以多快的速度将数据从一个地方移动到另一个地方。\n",
    "\n"
   ]
  },
  {
   "cell_type": "markdown",
   "metadata": {},
   "source": [
    "## 通信层\n",
    "\n",
    "一条总线的主要属性是它的速度:在给定时间内它能传输多少数据。该属性由两个因素决定\n",
    "* 一次能传输多少数据(总线带宽)和每秒能传输几次(总线频率)。\n",
    "需要说明的是一次传输的数据总是有序的:一块数据先从内存中读出,然后被移动到另一个地方。\n",
    "这就是为什么总线的速度可以被拆分为两个因素,因为这两个因素分别独立影响计算的不同方面:\n",
    "高的总线带宽可以一次性移动所有相关数据,有助于矢量化的代码(或任何顺序读取内存的代码),\n",
    "而另一方面,低带宽高频率有助于那些经常随机读取内存的代码。\n",
    "有意思的是,这些属性是由计算机设计者在主板的物理布局上决定的:\n",
    "* 当芯片之间相距较近时,它们之间的物理链路就较短,就可以允许更高的传输速度。而物理链路的数量则决定了总线的带宽(带宽这个词真的具有物理上的意义!)。"
   ]
  },
  {
   "cell_type": "markdown",
   "metadata": {},
   "source": [
    "## 理想计算模型和 Python 虚拟机\n",
    "\n",
    "* 首先是 Python 对象不再是内存中最优化的布局。这是因为Python 是一种垃圾收集语言——内存会被自动分配并在需要时释放。这会导致内存碎片并影响向 CPU 缓存的传输。\n",
    "* 根源是 Python 的动态类型以及 Python 并不是一门编译性的语言。很多 C 语言开发者已经在多年开发过程中意识到,编译器总是比你聪明。\n",
    "* 由于 GIL,一次仅有一个核心可以被使用.我们可以使用多进程(multiprocessing 模块)而不是多线程,或者使用 Cython 或外部函数来避免这个问题"
   ]
  },
  {
   "cell_type": "markdown",
   "metadata": {},
   "source": [
    "# 第二章 通过性能分析找到瓶颈"
   ]
  },
  {
   "cell_type": "markdown",
   "metadata": {},
   "source": [
    "## 高效地分析性能\n",
    "* 性能分析的首要目标是对受测系统进行测试来发现哪里太慢(或占用太多 RAM, 或导致太多磁盘 I/O 或网络 I/O)。性能分析一般会导致额外的性能开销"
   ]
  },
  {
   "cell_type": "markdown",
   "metadata": {},
   "source": [
    "## 计时的简单方法——打印和修饰"
   ]
  },
  {
   "cell_type": "code",
   "execution_count": 10,
   "metadata": {},
   "outputs": [
    {
     "name": "stdout",
     "output_type": "stream",
     "text": [
      "CPU times: user 0 ns, sys: 0 ns, total: 0 ns\n",
      "Wall time: 8.11 µs\n",
      "total: 1.0813963413238525\n"
     ]
    }
   ],
   "source": [
    "%time\n",
    "\n",
    "from functools import wraps\n",
    "import time\n",
    "\n",
    "def timefn(fn):\n",
    "    @wraps(fn)\n",
    "    def measure_time(*args, **kwargs):\n",
    "        t1 = time.time()\n",
    "        results= fn(*args, **kwargs)\n",
    "        print(\"total:\",time.time()-t1)\n",
    "        return results\n",
    "    return measure_time\n",
    "\n",
    "@timefn\n",
    "def my_mul():\n",
    "    x= [index**3 for index in range(3000000)]\n",
    "    return x\n",
    "\n",
    "\n",
    "zz = my_mul()"
   ]
  },
  {
   "cell_type": "markdown",
   "metadata": {},
   "source": [
    "## 用 UNIX 的 time 命令进行简单的计时\n",
    "\n",
    "* 用 UNIX 的 time 命令进行简单的计时\n",
    "\n",
    "```\n",
    "/usr/bin/time -p python your_python.py\n",
    "```\n",
    "* 打开--verbose 开关来获得更多输出信息\n",
    "```\n",
    "/usr/bin/time --verbose python your_python.py\n",
    "```"
   ]
  },
  {
   "cell_type": "markdown",
   "metadata": {},
   "source": [
    "## 使用 cProfile 模块\n",
    "-s cumulative 开关告诉 cProfile 对每个函数累计花费的时间进行排序,这能让我们看到代码最慢的部分\n",
    "```\n",
    "python -m cProfile -s cumulative julia1_nopil.py\n",
    "```\n"
   ]
  },
  {
   "cell_type": "markdown",
   "metadata": {},
   "source": [
    "## 用 runsnakerun 对 cProfile 的输出进行可视化\n",
    "* runsnake 是一个可视化工具,用于显示 cProfile 创建的统计文件—你只需要看它生成的图像就可以快速意识到哪个函数开销最大"
   ]
  },
  {
   "cell_type": "markdown",
   "metadata": {},
   "source": [
    "## 用 line_profiler 进行逐行分析\n",
    "* 输入命令 pip install line_profiler 来安装 line_profiler。用修饰器(@profile)标记选中的函数。用 kernprof.py 脚本运行你的代码,被选函数每一行花费的 CPU 时间以及其他信息就会被记录下来\n",
    "* line_profiler用来测量 CPU 占用率"
   ]
  },
  {
   "cell_type": "markdown",
   "metadata": {},
   "source": [
    "## 用 memory_profiler 诊断内存的用量\n",
    "```\n",
    "pip install memory_profiler\n",
    "python -m memory_profiler julia1_memoryprofiler.py\n",
    "```\n",
    "* 能够逐行测量内存(RAM)占用率\n",
    "\n",
    "mprof可视化\n",
    "```\n",
    "mprof run memory_profiler_test.py \n",
    "mprof plot \n",
    "mprof clean\n",
    "```"
   ]
  },
  {
   "cell_type": "markdown",
   "metadata": {},
   "source": [
    "## 用 heapy 调查堆上的对象\n",
    "* 为了使用 heapy,你需要用命令 pip install guppy 安装 guppy 包"
   ]
  },
  {
   "cell_type": "markdown",
   "metadata": {},
   "source": [
    "## 用 dowser 实时画出变量的实例"
   ]
  },
  {
   "cell_type": "markdown",
   "metadata": {},
   "source": [
    "## 用 dis 模块检查 CPython 字节码"
   ]
  },
  {
   "cell_type": "code",
   "execution_count": 12,
   "metadata": {},
   "outputs": [
    {
     "name": "stdout",
     "output_type": "stream",
     "text": [
      "  9           0 LOAD_GLOBAL              0 (time)\n",
      "              2 LOAD_METHOD              0 (time)\n",
      "              4 CALL_METHOD              0\n",
      "              6 STORE_FAST               2 (t1)\n",
      "\n",
      " 10           8 LOAD_DEREF               0 (fn)\n",
      "             10 LOAD_FAST                0 (args)\n",
      "             12 LOAD_FAST                1 (kwargs)\n",
      "             14 CALL_FUNCTION_EX         1\n",
      "             16 STORE_FAST               3 (results)\n",
      "\n",
      " 11          18 LOAD_GLOBAL              1 (print)\n",
      "             20 LOAD_CONST               1 ('total:')\n",
      "             22 LOAD_GLOBAL              0 (time)\n",
      "             24 LOAD_METHOD              0 (time)\n",
      "             26 CALL_METHOD              0\n",
      "             28 LOAD_FAST                2 (t1)\n",
      "             30 BINARY_SUBTRACT\n",
      "             32 CALL_FUNCTION            2\n",
      "             34 POP_TOP\n",
      "\n",
      " 12          36 LOAD_FAST                3 (results)\n",
      "             38 RETURN_VALUE\n"
     ]
    }
   ],
   "source": [
    "import dis\n",
    "dis.dis(my_mul)"
   ]
  },
  {
   "cell_type": "markdown",
   "metadata": {},
   "source": [
    "## 不同的方法不同的复杂度"
   ]
  },
  {
   "cell_type": "code",
   "execution_count": 14,
   "metadata": {},
   "outputs": [
    {
     "name": "stdout",
     "output_type": "stream",
     "text": [
      "66.6 ms ± 718 µs per loop (mean ± std. dev. of 7 runs, 10 loops each)\n"
     ]
    }
   ],
   "source": [
    "def fn_expressive(upper = 1000000):\n",
    "    total = 0\n",
    "    for n in range(upper):\n",
    "        total += n\n",
    "    return total\n",
    "def fn_terse(upper = 1000000):\n",
    "    return sum(range(upper))\n",
    "%timeit fn_expressive()"
   ]
  },
  {
   "cell_type": "code",
   "execution_count": 15,
   "metadata": {},
   "outputs": [
    {
     "name": "stdout",
     "output_type": "stream",
     "text": [
      "21.3 ms ± 177 µs per loop (mean ± std. dev. of 7 runs, 10 loops each)\n"
     ]
    }
   ],
   "source": [
    "%timeit fn_terse()"
   ]
  },
  {
   "cell_type": "code",
   "execution_count": 18,
   "metadata": {},
   "outputs": [
    {
     "name": "stdout",
     "output_type": "stream",
     "text": [
      "  2           0 LOAD_CONST               1 (0)\n",
      "              2 STORE_FAST               1 (total)\n",
      "\n",
      "  3           4 SETUP_LOOP              24 (to 30)\n",
      "              6 LOAD_GLOBAL              0 (range)\n",
      "              8 LOAD_FAST                0 (upper)\n",
      "             10 CALL_FUNCTION            1\n",
      "             12 GET_ITER\n",
      "        >>   14 FOR_ITER                12 (to 28)\n",
      "             16 STORE_FAST               2 (n)\n",
      "\n",
      "  4          18 LOAD_FAST                1 (total)\n",
      "             20 LOAD_FAST                2 (n)\n",
      "             22 INPLACE_ADD\n",
      "             24 STORE_FAST               1 (total)\n",
      "             26 JUMP_ABSOLUTE           14\n",
      "        >>   28 POP_BLOCK\n",
      "\n",
      "  5     >>   30 LOAD_FAST                1 (total)\n",
      "             32 RETURN_VALUE\n"
     ]
    }
   ],
   "source": [
    "import dis\n",
    "dis.dis(fn_expressive)"
   ]
  },
  {
   "cell_type": "code",
   "execution_count": 19,
   "metadata": {},
   "outputs": [
    {
     "name": "stdout",
     "output_type": "stream",
     "text": [
      "  7           0 LOAD_GLOBAL              0 (sum)\n",
      "              2 LOAD_GLOBAL              1 (range)\n",
      "              4 LOAD_FAST                0 (upper)\n",
      "              6 CALL_FUNCTION            1\n",
      "              8 CALL_FUNCTION            1\n",
      "             10 RETURN_VALUE\n"
     ]
    }
   ],
   "source": [
    "dis.dis(fn_terse)"
   ]
  },
  {
   "cell_type": "markdown",
   "metadata": {},
   "source": [
    "## **在优化期间进行单元测试保持代码的正确性**"
   ]
  },
  {
   "cell_type": "code",
   "execution_count": null,
   "metadata": {},
   "outputs": [],
   "source": []
  }
 ],
 "metadata": {
  "kernelspec": {
   "display_name": "Python 3",
   "language": "python",
   "name": "python3"
  },
  "language_info": {
   "codemirror_mode": {
    "name": "ipython",
    "version": 3
   },
   "file_extension": ".py",
   "mimetype": "text/x-python",
   "name": "python",
   "nbconvert_exporter": "python",
   "pygments_lexer": "ipython3",
   "version": "3.7.3"
  },
  "toc-autonumbering": true
 },
 "nbformat": 4,
 "nbformat_minor": 4
}
