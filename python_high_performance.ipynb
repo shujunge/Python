{
 "cells": [
  {
   "cell_type": "markdown",
   "metadata": {},
   "source": [
    "# 第一章 理解高性能 Python"
   ]
  },
  {
   "cell_type": "markdown",
   "metadata": {},
   "source": [
    "## 基本的计算机系统\n",
    "一台计算机的底层组件可被分为三大基本部分:\n",
    "* 计算单元:计算单元有一个属性告诉我们它每秒能够进行多少次计算\n",
    "* 存储单元:存储单元有一个属性告诉我们它能保存多少数据,还有一个属性告诉我们能以多快的速度对它进行读写\n",
    "* 以及两者之间的连接:而连接则有一个属性告诉我们它们能以多快的速度将数据从一个地方移动到另一个地方。\n",
    "\n"
   ]
  },
  {
   "cell_type": "markdown",
   "metadata": {},
   "source": [
    "## 通信层\n",
    "\n",
    "一条总线的主要属性是它的速度:在给定时间内它能传输多少数据。该属性由两个因素决定\n",
    "* 一次能传输多少数据(总线带宽)和每秒能传输几次(总线频率)。\n",
    "需要说明的是一次传输的数据总是有序的:一块数据先从内存中读出,然后被移动到另一个地方。\n",
    "这就是为什么总线的速度可以被拆分为两个因素,因为这两个因素分别独立影响计算的不同方面:\n",
    "高的总线带宽可以一次性移动所有相关数据,有助于矢量化的代码(或任何顺序读取内存的代码),\n",
    "而另一方面,低带宽高频率有助于那些经常随机读取内存的代码。\n",
    "有意思的是,这些属性是由计算机设计者在主板的物理布局上决定的:\n",
    "* 当芯片之间相距较近时,它们之间的物理链路就较短,就可以允许更高的传输速度。而物理链路的数量则决定了总线的带宽(带宽这个词真的具有物理上的意义!)。"
   ]
  },
  {
   "cell_type": "markdown",
   "metadata": {},
   "source": [
    "## 理想计算模型和 Python 虚拟机\n",
    "\n",
    "* 首先是 Python 对象不再是内存中最优化的布局。这是因为Python 是一种垃圾收集语言——内存会被自动分配并在需要时释放。这会导致内存碎片并影响向 CPU 缓存的传输。\n",
    "* 根源是 Python 的动态类型以及 Python 并不是一门编译性的语言。很多 C 语言开发者已经在多年开发过程中意识到,编译器总是比你聪明。\n",
    "* 由于 GIL,一次仅有一个核心可以被使用.我们可以使用多进程(multiprocessing 模块)而不是多线程,或者使用 Cython 或外部函数来避免这个问题"
   ]
  },
  {
   "cell_type": "markdown",
   "metadata": {},
   "source": [
    "# 第二章 通过性能分析找到瓶颈"
   ]
  },
  {
   "cell_type": "markdown",
   "metadata": {},
   "source": [
    "## 高效地分析性能\n",
    "* 性能分析的首要目标是对受测系统进行测试来发现哪里太慢(或占用太多 RAM, 或导致太多磁盘 I/O 或网络 I/O)。性能分析一般会导致额外的性能开销"
   ]
  },
  {
   "cell_type": "markdown",
   "metadata": {},
   "source": [
    "## 计时的简单方法——打印和修饰"
   ]
  },
  {
   "cell_type": "code",
   "execution_count": 10,
   "metadata": {},
   "outputs": [
    {
     "name": "stdout",
     "output_type": "stream",
     "text": [
      "CPU times: user 0 ns, sys: 0 ns, total: 0 ns\n",
      "Wall time: 8.11 µs\n",
      "total: 1.0813963413238525\n"
     ]
    }
   ],
   "source": [
    "%time\n",
    "\n",
    "from functools import wraps\n",
    "import time\n",
    "\n",
    "def timefn(fn):\n",
    "    @wraps(fn)\n",
    "    def measure_time(*args, **kwargs):\n",
    "        t1 = time.time()\n",
    "        results= fn(*args, **kwargs)\n",
    "        print(\"total:\",time.time()-t1)\n",
    "        return results\n",
    "    return measure_time\n",
    "\n",
    "@timefn\n",
    "def my_mul():\n",
    "    x= [index**3 for index in range(3000000)]\n",
    "    return x\n",
    "\n",
    "\n",
    "zz = my_mul()"
   ]
  },
  {
   "cell_type": "markdown",
   "metadata": {},
   "source": [
    "## 用 UNIX 的 time 命令进行简单的计时\n",
    "\n",
    "* 用 UNIX 的 time 命令进行简单的计时\n",
    "\n",
    "```\n",
    "/usr/bin/time -p python your_python.py\n",
    "```\n",
    "* 打开--verbose 开关来获得更多输出信息\n",
    "```\n",
    "/usr/bin/time --verbose python your_python.py\n",
    "```"
   ]
  },
  {
   "cell_type": "markdown",
   "metadata": {},
   "source": [
    "## 使用 cProfile 模块\n",
    "-s cumulative 开关告诉 cProfile 对每个函数累计花费的时间进行排序,这能让我们看到代码最慢的部分\n",
    "```\n",
    "python -m cProfile -s cumulative julia1_nopil.py\n",
    "```\n"
   ]
  },
  {
   "cell_type": "markdown",
   "metadata": {},
   "source": [
    "## 用 runsnakerun 对 cProfile 的输出进行可视化\n",
    "* runsnake 是一个可视化工具,用于显示 cProfile 创建的统计文件—你只需要看它生成的图像就可以快速意识到哪个函数开销最大"
   ]
  },
  {
   "cell_type": "markdown",
   "metadata": {},
   "source": [
    "## 用 line_profiler 进行逐行分析\n",
    "* 输入命令 pip install line_profiler 来安装 line_profiler。用修饰器(@profile)标记选中的函数。用 kernprof.py 脚本运行你的代码,被选函数每一行花费的 CPU 时间以及其他信息就会被记录下来\n",
    "* line_profiler用来测量 CPU 占用率"
   ]
  },
  {
   "cell_type": "markdown",
   "metadata": {},
   "source": [
    "## 用 memory_profiler 诊断内存的用量\n",
    "```\n",
    "pip install memory_profiler\n",
    "python -m memory_profiler julia1_memoryprofiler.py\n",
    "```\n",
    "* 能够逐行测量内存(RAM)占用率\n",
    "\n",
    "mprof可视化\n",
    "```\n",
    "mprof run memory_profiler_test.py \n",
    "mprof plot \n",
    "mprof clean\n",
    "```"
   ]
  },
  {
   "cell_type": "markdown",
   "metadata": {},
   "source": [
    "## 用 heapy 调查堆上的对象\n",
    "* 为了使用 heapy,你需要用命令 pip install guppy 安装 guppy 包"
   ]
  },
  {
   "cell_type": "markdown",
   "metadata": {},
   "source": [
    "## 用 dowser 实时画出变量的实例"
   ]
  },
  {
   "cell_type": "markdown",
   "metadata": {},
   "source": [
    "## 用 dis 模块检查 CPython 字节码"
   ]
  },
  {
   "cell_type": "code",
   "execution_count": 12,
   "metadata": {},
   "outputs": [
    {
     "name": "stdout",
     "output_type": "stream",
     "text": [
      "  9           0 LOAD_GLOBAL              0 (time)\n",
      "              2 LOAD_METHOD              0 (time)\n",
      "              4 CALL_METHOD              0\n",
      "              6 STORE_FAST               2 (t1)\n",
      "\n",
      " 10           8 LOAD_DEREF               0 (fn)\n",
      "             10 LOAD_FAST                0 (args)\n",
      "             12 LOAD_FAST                1 (kwargs)\n",
      "             14 CALL_FUNCTION_EX         1\n",
      "             16 STORE_FAST               3 (results)\n",
      "\n",
      " 11          18 LOAD_GLOBAL              1 (print)\n",
      "             20 LOAD_CONST               1 ('total:')\n",
      "             22 LOAD_GLOBAL              0 (time)\n",
      "             24 LOAD_METHOD              0 (time)\n",
      "             26 CALL_METHOD              0\n",
      "             28 LOAD_FAST                2 (t1)\n",
      "             30 BINARY_SUBTRACT\n",
      "             32 CALL_FUNCTION            2\n",
      "             34 POP_TOP\n",
      "\n",
      " 12          36 LOAD_FAST                3 (results)\n",
      "             38 RETURN_VALUE\n"
     ]
    }
   ],
   "source": [
    "import dis\n",
    "dis.dis(my_mul)"
   ]
  },
  {
   "cell_type": "markdown",
   "metadata": {},
   "source": [
    "## 不同的方法不同的复杂度"
   ]
  },
  {
   "cell_type": "code",
   "execution_count": 14,
   "metadata": {},
   "outputs": [
    {
     "name": "stdout",
     "output_type": "stream",
     "text": [
      "66.6 ms ± 718 µs per loop (mean ± std. dev. of 7 runs, 10 loops each)\n"
     ]
    }
   ],
   "source": [
    "def fn_expressive(upper = 1000000):\n",
    "    total = 0\n",
    "    for n in range(upper):\n",
    "        total += n\n",
    "    return total\n",
    "def fn_terse(upper = 1000000):\n",
    "    return sum(range(upper))\n",
    "%timeit fn_expressive()"
   ]
  },
  {
   "cell_type": "code",
   "execution_count": 15,
   "metadata": {},
   "outputs": [
    {
     "name": "stdout",
     "output_type": "stream",
     "text": [
      "21.3 ms ± 177 µs per loop (mean ± std. dev. of 7 runs, 10 loops each)\n"
     ]
    }
   ],
   "source": [
    "%timeit fn_terse()"
   ]
  },
  {
   "cell_type": "code",
   "execution_count": 18,
   "metadata": {},
   "outputs": [
    {
     "name": "stdout",
     "output_type": "stream",
     "text": [
      "  2           0 LOAD_CONST               1 (0)\n",
      "              2 STORE_FAST               1 (total)\n",
      "\n",
      "  3           4 SETUP_LOOP              24 (to 30)\n",
      "              6 LOAD_GLOBAL              0 (range)\n",
      "              8 LOAD_FAST                0 (upper)\n",
      "             10 CALL_FUNCTION            1\n",
      "             12 GET_ITER\n",
      "        >>   14 FOR_ITER                12 (to 28)\n",
      "             16 STORE_FAST               2 (n)\n",
      "\n",
      "  4          18 LOAD_FAST                1 (total)\n",
      "             20 LOAD_FAST                2 (n)\n",
      "             22 INPLACE_ADD\n",
      "             24 STORE_FAST               1 (total)\n",
      "             26 JUMP_ABSOLUTE           14\n",
      "        >>   28 POP_BLOCK\n",
      "\n",
      "  5     >>   30 LOAD_FAST                1 (total)\n",
      "             32 RETURN_VALUE\n"
     ]
    }
   ],
   "source": [
    "import dis\n",
    "dis.dis(fn_expressive)"
   ]
  },
  {
   "cell_type": "code",
   "execution_count": 19,
   "metadata": {},
   "outputs": [
    {
     "name": "stdout",
     "output_type": "stream",
     "text": [
      "  7           0 LOAD_GLOBAL              0 (sum)\n",
      "              2 LOAD_GLOBAL              1 (range)\n",
      "              4 LOAD_FAST                0 (upper)\n",
      "              6 CALL_FUNCTION            1\n",
      "              8 CALL_FUNCTION            1\n",
      "             10 RETURN_VALUE\n"
     ]
    }
   ],
   "source": [
    "dis.dis(fn_terse)"
   ]
  },
  {
   "cell_type": "markdown",
   "metadata": {},
   "source": [
    "## **在优化期间进行单元测试保持代码的正确性**"
   ]
  },
  {
   "cell_type": "markdown",
   "metadata": {},
   "source": [
    "# 第三章 列表和元组\n",
    "* 列表和元组之类的数据结构被称为数组 。\n",
    "一个数组是数据在某种内在次序下的扁平\n",
    "列表。这一先验次序十分重要:知道了数据在数组中的确定位置,我们就能以 O(1)\n",
    "的复杂度得到它!另外,数组可以有多种实现方式。下面是列表和元组的另一个区\n",
    "别:\n",
    "* 列表是动态的数组,它们可变且可以重设长度(改变其内部元素的个数)。\n",
    "* 而元组则是静态的数组,它们不可变,且其内部数据一旦创建便无法改变。\n",
    "* 元组缓存于 Python 运行时环境,这意味着我们每次使用元组时无须访问内核去分配内存."
   ]
  },
  {
   "cell_type": "markdown",
   "metadata": {},
   "source": [
    "## 列表\n",
    "* Python 2.7 的列表空间分配公式 \n",
    "```\n",
    "M = (N >> 3) + (N < 9 ? 3 : 6)\n",
    "N 是列表的数量\n",
    "M是列表分配的空间\n",
    "```"
   ]
  },
  {
   "cell_type": "code",
   "execution_count": 2,
   "metadata": {},
   "outputs": [
    {
     "data": {
      "text/plain": [
       "88"
      ]
     },
     "execution_count": 2,
     "metadata": {},
     "output_type": "execute_result"
    }
   ],
   "source": [
    "numbers = [5, 8, 1, 3, 2, 6]\n",
    "numbers.__sizeof__() # 40+ 8*len(numbers)"
   ]
  },
  {
   "cell_type": "markdown",
   "metadata": {},
   "source": [
    "## 元组\n",
    "* 元组的静态特性的另一个好处体现在一些会在 Python 后台发生的事:资源缓存。Python 是一门垃圾收集语言,这意味着当一个变量不再被使用时,Python 会将该变量使用的内存释放回操作系统,以供其他程序(或变量)使用。然而,对于长度为 1~20 的元组,即使它们不再被使用,它们的空间也不会立刻被还给系统,而是留待未来使用。这意味着当未来需要一个同样大小的新元组时,我们不再需要向操作系统申请一块内存来存放数据,因为我们已经有了预留的内存.\n",
    "* 元组可以被轻松迅速地创建,因为它们可以避免跟操作系统打交道,而列表很花时间。"
   ]
  },
  {
   "cell_type": "code",
   "execution_count": 13,
   "metadata": {},
   "outputs": [
    {
     "name": "stdout",
     "output_type": "stream",
     "text": [
      "56\n",
      "24\n"
     ]
    }
   ],
   "source": [
    "t = (1,2,3,4)\n",
    "print(t.__sizeof__()) #24 +8*len(t)\n",
    "t=tuple()\n",
    "print(t.__sizeof__()) #24"
   ]
  },
  {
   "cell_type": "code",
   "execution_count": 14,
   "metadata": {},
   "outputs": [
    {
     "name": "stdout",
     "output_type": "stream",
     "text": [
      "93.8 ns ± 2.34 ns per loop (mean ± std. dev. of 7 runs, 10000000 loops each)\n"
     ]
    }
   ],
   "source": [
    "%timeit l = [0,1,2,3,4,5,6,7,8,9]"
   ]
  },
  {
   "cell_type": "code",
   "execution_count": 15,
   "metadata": {},
   "outputs": [
    {
     "name": "stdout",
     "output_type": "stream",
     "text": [
      "14.6 ns ± 0.869 ns per loop (mean ± std. dev. of 7 runs, 100000000 loops each)\n"
     ]
    }
   ],
   "source": [
    "%timeit t = (0,1,2,3,4,5,6,7,8,9)"
   ]
  },
  {
   "cell_type": "markdown",
   "metadata": {},
   "source": [
    "# 第四章 字典和集合\n",
    "* 字典和集合使用散列表来获得 O(1)的查询和插入。能得到这一效率是因为我们非常聪明地使用散列函数将一个任意的键(如一个字符串或一个对象)转变成了一个列表的索引。散列函数和列表随后可以被用来决定任意数据的位置,而无须搜索。\n",
    "* Python 对象通常以散列表实现,因为它们已经有内建的__hash__和__cmp__函数。对于数字类型(int 和 float),散列值就是基于它们数字的比特值."
   ]
  },
  {
   "cell_type": "markdown",
   "metadata": {},
   "source": [
    "## 字典和命名空间\n",
    "每当 Python 访问一个变量、函数或模块时,都有一个体系来决定它去哪里查找这些对象。\n",
    "* 首先,Python 查找 locals()数组,其内保存了所有本地变量的条目。Python 花了很多精力优化本地变量查询的速度,而这也是整条链上唯一一个不需要字典查询的部分。\n",
    "* 如果它不在本地变量里,那么会搜索 globals()字典。\n",
    "* 最后,如果对象也不在那里,则搜索__builtin__对象。\n",
    "\n",
    "注意:\n",
    "要注意 locals()和 globals()是显式的字典而__builtin__则是模块对象,在搜索__builtin__中的一个属性时,我们其实是在搜索它的 locals()字典(对所有的模块对象和类对象都是如此!)"
   ]
  },
  {
   "cell_type": "code",
   "execution_count": 1,
   "metadata": {},
   "outputs": [],
   "source": [
    "import math\n",
    "from math import sin\n",
    "import dis\n",
    "def test1(x):\n",
    "    return math.sin(x)\n",
    "def test2(x):\n",
    "    return sin(x)\n",
    "def test3(x, sin=math.sin):\n",
    "    return sin(x)"
   ]
  },
  {
   "cell_type": "code",
   "execution_count": 5,
   "metadata": {},
   "outputs": [
    {
     "name": "stdout",
     "output_type": "stream",
     "text": [
      "  9           0 LOAD_GLOBAL              0 (math)\n",
      "              2 LOAD_METHOD              1 (sin)\n",
      "              4 LOAD_FAST                0 (x)\n",
      "              6 CALL_METHOD              1\n",
      "              8 RETURN_VALUE\n",
      "224 ns ± 5.7 ns per loop (mean ± std. dev. of 7 runs, 1000000 loops each)\n"
     ]
    }
   ],
   "source": [
    "dis.dis(test1)\n",
    "%timeit test1(123456)"
   ]
  },
  {
   "cell_type": "code",
   "execution_count": 6,
   "metadata": {},
   "outputs": [
    {
     "name": "stdout",
     "output_type": "stream",
     "text": [
      " 15           0 LOAD_GLOBAL              0 (sin)\n",
      "              2 LOAD_FAST                0 (x)\n",
      "              4 CALL_FUNCTION            1\n",
      "              6 RETURN_VALUE\n",
      "181 ns ± 1.9 ns per loop (mean ± std. dev. of 7 runs, 10000000 loops each)\n"
     ]
    }
   ],
   "source": [
    "dis.dis(test2)\n",
    "%timeit test2(123456)"
   ]
  },
  {
   "cell_type": "code",
   "execution_count": 7,
   "metadata": {},
   "outputs": [
    {
     "name": "stdout",
     "output_type": "stream",
     "text": [
      " 21           0 LOAD_FAST                1 (sin)\n",
      "              2 LOAD_FAST                0 (x)\n",
      "              4 CALL_FUNCTION            1\n",
      "              6 RETURN_VALUE\n",
      "197 ns ± 5.13 ns per loop (mean ± std. dev. of 7 runs, 10000000 loops each)\n"
     ]
    }
   ],
   "source": [
    "dis.dis(test3)\n",
    "%timeit test3(123456)"
   ]
  },
  {
   "cell_type": "markdown",
   "metadata": {},
   "source": [
    "## 循环内的命名空间查询的降速效果"
   ]
  },
  {
   "cell_type": "code",
   "execution_count": 11,
   "metadata": {},
   "outputs": [],
   "source": [
    "from math import sin\n",
    "def tight_loop_slow(iterations):\n",
    "    \"\"\"\n",
    "    >>> %timeit tight_loop_slow(10000000)\n",
    "    1 loops, best of 3: 2.21 s per loop\n",
    "    \"\"\"\n",
    "    result = 0\n",
    "    for i in range(iterations):\n",
    "        # this call to sin requires a global lookup\n",
    "        result += sin(i)\n",
    "def tight_loop_fast(iterations):\n",
    "    \"\"\"\n",
    "    >>> %timeit tight_loop_fast(10000000)\n",
    "    1 loops, best of 3: 2.02 s per loop\n",
    "    \"\"\"\n",
    "    result = 0\n",
    "    local_sin = sin\n",
    "    for i in range(iterations):\n",
    "        # this call to local_sin requires a local lookup\n",
    "        result += local_sin(i)"
   ]
  },
  {
   "cell_type": "code",
   "execution_count": 12,
   "metadata": {},
   "outputs": [
    {
     "name": "stdout",
     "output_type": "stream",
     "text": [
      "1.67 s ± 26.9 ms per loop (mean ± std. dev. of 7 runs, 1 loop each)\n"
     ]
    }
   ],
   "source": [
    "%timeit tight_loop_slow(10000000)"
   ]
  },
  {
   "cell_type": "code",
   "execution_count": 13,
   "metadata": {},
   "outputs": [
    {
     "name": "stdout",
     "output_type": "stream",
     "text": [
      "1.49 s ± 2.85 ms per loop (mean ± std. dev. of 7 runs, 1 loop each)\n"
     ]
    }
   ],
   "source": [
    "%timeit tight_loop_fast(10000000)"
   ]
  },
  {
   "cell_type": "markdown",
   "metadata": {},
   "source": [
    "# 第五章 迭代器和生成器"
   ]
  },
  {
   "cell_type": "markdown",
   "metadata": {},
   "source": [
    "## 生成器的延迟估值\n",
    "标准库中的 itertools 库\n",
    "\n",
    "* 它提供了 Python 内建函数 map、 reduce、filter 和 zip \n",
    "* 生成器版本在 itertools 中分别是 imap、和 izip、ireduce、ifilter "
   ]
  },
  {
   "cell_type": "code",
   "execution_count": 15,
   "metadata": {},
   "outputs": [],
   "source": [
    "from random import normalvariate, random\n",
    "from itertools import count\n",
    "def read_data(filename):\n",
    "    with open(filename) as fd:\n",
    "        for line in fd:\n",
    "            data = line.strip().split(',')\n",
    "            yield map(int, data)\n",
    "        \n",
    "def read_fake_data(filename):\n",
    "    for i in count():\n",
    "        sigma = random() * 10\n",
    "        yield (i, normalvariate(0, sigma))\n"
   ]
  }
 ],
 "metadata": {
  "kernelspec": {
   "display_name": "Python 3",
   "language": "python",
   "name": "python3"
  },
  "language_info": {
   "codemirror_mode": {
    "name": "ipython",
    "version": 3
   },
   "file_extension": ".py",
   "mimetype": "text/x-python",
   "name": "python",
   "nbconvert_exporter": "python",
   "pygments_lexer": "ipython3",
   "version": "3.7.3"
  },
  "toc-autonumbering": true
 },
 "nbformat": 4,
 "nbformat_minor": 4
}
