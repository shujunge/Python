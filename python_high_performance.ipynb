{
 "cells": [
  {
   "cell_type": "markdown",
   "metadata": {},
   "source": [
    "# 第一章 理解高性能 Python"
   ]
  },
  {
   "cell_type": "markdown",
   "metadata": {},
   "source": [
    "## 基本的计算机系统\n",
    "一台计算机的底层组件可被分为三大基本部分:\n",
    "* 计算单元:计算单元有一个属性告诉我们它每秒能够进行多少次计算\n",
    "* 存储单元:存储单元有一个属性告诉我们它能保存多少数据,还有一个属性告诉我们能以多快的速度对它进行读写\n",
    "* 以及两者之间的连接:而连接则有一个属性告诉我们它们能以多快的速度将数据从一个地方移动到另一个地方。\n",
    "\n"
   ]
  },
  {
   "cell_type": "markdown",
   "metadata": {},
   "source": [
    "## 通信层\n",
    "\n",
    "一条总线的主要属性是它的速度:在给定时间内它能传输多少数据。该属性由两个因素决定\n",
    "* 一次能传输多少数据(总线带宽)和每秒能传输几次(总线频率)。\n",
    "需要说明的是一次传输的数据总是有序的:一块数据先从内存中读出,然后被移动到另一个地方。\n",
    "这就是为什么总线的速度可以被拆分为两个因素,因为这两个因素分别独立影响计算的不同方面:\n",
    "高的总线带宽可以一次性移动所有相关数据,有助于矢量化的代码(或任何顺序读取内存的代码),\n",
    "而另一方面,低带宽高频率有助于那些经常随机读取内存的代码。\n",
    "有意思的是,这些属性是由计算机设计者在主板的物理布局上决定的:\n",
    "* 当芯片之间相距较近时,它们之间的物理链路就较短,就可以允许更高的传输速度。而物理链路的数量则决定了总线的带宽(带宽这个词真的具有物理上的意义!)。"
   ]
  },
  {
   "cell_type": "markdown",
   "metadata": {},
   "source": [
    "## 理想计算模型和 Python 虚拟机\n",
    "\n",
    "* 首先是 Python 对象不再是内存中最优化的布局。这是因为Python 是一种垃圾收集语言——内存会被自动分配并在需要时释放。这会导致内存碎片并影响向 CPU 缓存的传输。\n",
    "* 根源是 Python 的动态类型以及 Python 并不是一门编译性的语言。很多 C 语言开发者已经在多年开发过程中意识到,编译器总是比你聪明。\n",
    "* 由于 GIL,一次仅有一个核心可以被使用.我们可以使用多进程(multiprocessing 模块)而不是多线程,或者使用 Cython 或外部函数来避免这个问题"
   ]
  },
  {
   "cell_type": "code",
   "execution_count": null,
   "metadata": {},
   "outputs": [],
   "source": []
  }
 ],
 "metadata": {
  "kernelspec": {
   "display_name": "Python 3",
   "language": "python",
   "name": "python3"
  },
  "language_info": {
   "codemirror_mode": {
    "name": "ipython",
    "version": 3
   },
   "file_extension": ".py",
   "mimetype": "text/x-python",
   "name": "python",
   "nbconvert_exporter": "python",
   "pygments_lexer": "ipython3",
   "version": "3.7.3"
  }
 },
 "nbformat": 4,
 "nbformat_minor": 4
}
