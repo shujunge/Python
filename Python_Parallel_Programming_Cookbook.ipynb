{
 "cells": [
  {
   "cell_type": "markdown",
   "metadata": {
    "toc-hr-collapsed": false
   },
   "source": [
    "# 第一章"
   ]
  },
  {
   "cell_type": "markdown",
   "metadata": {},
   "source": [
    "## The parallel computing memory architecture\n",
    "* Single instruction, single data (SISD)\n",
    "![](./figs/SISD.png)\n",
    "* Single instruction, multiple data (SIMD)\n",
    "\n",
    "* Multiple instruction, single data (MISD)\n",
    "![](./figs/MISD.png)\n",
    "* Multiple instruction, multiple data (MIMD)\n",
    "![](./figs/MIMD.png)"
   ]
  },
  {
   "cell_type": "markdown",
   "metadata": {},
   "source": [
    "## Memory organization\n",
    "![](figs/memory_MIMD.png)"
   ]
  },
  {
   "cell_type": "markdown",
   "metadata": {},
   "source": [
    "## Shared memory\n",
    "![](./figs/share_memory.png)"
   ]
  },
  {
   "cell_type": "markdown",
   "metadata": {},
   "source": [
    "## Distributed memory\n",
    "![](./figs/Distributed_memory.png)"
   ]
  },
  {
   "cell_type": "markdown",
   "metadata": {
    "toc-hr-collapsed": true
   },
   "source": [
    "## Parallel programming models\n",
    "* The shared memory model\n",
    "* The multithread model\n",
    "* The distributed memory/message passing model\n",
    "* The data parallel model"
   ]
  },
  {
   "cell_type": "markdown",
   "metadata": {},
   "source": [
    "### The shared memory model\n",
    "在此模型中，任务共享一个共享内存区域，其中对共享资源的访问（读取和写入数据）是异步的。 有一些机制允许程序员控制对共享内存的访问，例如，锁或信号灯。 这种模型的优点是程序员不必明确任务之间的通信。 在性能方面的一个重要缺点是，它变得更加难以理解和管理数据局部性。 将数据保留在使用该处理器的处理器本地，可以节省内存访问，高速缓存刷新以及在多个处理器使用同一数据时发生的总线流量。"
   ]
  },
  {
   "cell_type": "markdown",
   "metadata": {},
   "source": [
    "### The multithread model"
   ]
  },
  {
   "cell_type": "markdown",
   "metadata": {},
   "source": [
    "### The message passing model\n",
    "消息传递模型通常适用于每个处理器都有自己的内存（分布式内存系统）的情况。 更多任务可以驻留在同一台物理计算机上或任意数量的计算机上。 程序员负责确定通过消息进行的并行性和数据交换。 此并行编程模型的实现需要使用要使用的（临时）软件库\n",
    "在代码中。 线程/进程通信对应着消息传递模式."
   ]
  },
  {
   "cell_type": "markdown",
   "metadata": {},
   "source": [
    "### The data parallel model\n",
    "![](./figs/data_parallel.png)"
   ]
  },
  {
   "cell_type": "markdown",
   "metadata": {
    "toc-hr-collapsed": true
   },
   "source": [
    "## How to evaluate the performance of a parallel program\n"
   ]
  },
  {
   "cell_type": "markdown",
   "metadata": {},
   "source": [
    "### Speedup\n",
    "\n",
    "$S = \\frac{T_{S}}{T_{p}}$, p identical processing elements\n",
    "\n",
    "* S = p is linear or ideal speedup\n",
    "* S < p is real speedup\n",
    "* S > p is superlinear speedup"
   ]
  },
  {
   "cell_type": "markdown",
   "metadata": {},
   "source": [
    "## Start working with processes in Python"
   ]
  },
  {
   "cell_type": "code",
   "execution_count": 1,
   "metadata": {},
   "outputs": [],
   "source": [
    "# import os\n",
    "# import sys\n",
    "# ##this is the code to execute\n",
    "# program = \"python\"\n",
    "# print(\"Process calling\")\n",
    "# arguments = [\"called_Process.py\"]\n",
    "# ##we call the called_Process.py script\n",
    "# os.execvp(program, (program,) + tuple(arguments))\n",
    "# print(\"Good Bye!!\")"
   ]
  },
  {
   "cell_type": "markdown",
   "metadata": {},
   "source": [
    "## Start working with threads in Python\n",
    "\n",
    "* 基于线程的并行性是编写并行程序的标准方法。 但是，Python解释器不是完全线程安全的。 为了支持多线程Python程序，使用了称为全局解释器锁（GIL）的全局锁。 这意味着只有一个线程可以同时执行Python代码。 短时间或某个线程执行可能需要一段时间的操作后，Python会自动切换到下一个线程。\n",
    "* 使用线程时要注意的一个关键点是，必须始终确保永远不要让任何线程在后台运行。"
   ]
  },
  {
   "cell_type": "code",
   "execution_count": 2,
   "metadata": {},
   "outputs": [
    {
     "name": "stdout",
     "output_type": "stream",
     "text": [
      "Process Started\n",
      "Thread Starting\n",
      "\n",
      "Hello Parallel Python CookBook!!\n",
      "\n",
      "Process Ended\n"
     ]
    }
   ],
   "source": [
    "from threading import Thread\n",
    "##Also we use the sleep function to make the thread \"sleep\"\n",
    "from time import sleep\n",
    "## To create a thread in Python you'll want to make your class work as a thread.\n",
    "## For this, you should subclass your class from the Thread class\n",
    "class CookBook(Thread):\n",
    "    def __init__(self):\n",
    "        Thread.__init__(self)\n",
    "        self.message = \"Hello Parallel Python CookBook!!\\n\"\n",
    "    ##this method prints only the message\n",
    "    def print_message(self):\n",
    "        print (self.message)\n",
    "        ##The run method prints ten times the message\n",
    "    def run(self):\n",
    "        print (\"Thread Starting\\n\")\n",
    "        x=0\n",
    "        while (x < 10):\n",
    "            self.print_message()\n",
    "            sleep(2)\n",
    "            x += 1\n",
    "        print (\"Thread Ended\\n\")\n",
    "#start the main process\n",
    "print (\"Process Started\")\n",
    "\n",
    "# create an instance of the HelloWorld class\n",
    "hello_Python = CookBook()\n",
    "# print the message...starting the thread\n",
    "hello_Python.start()\n",
    "#end the main process\n",
    "print (\"Process Ended\")"
   ]
  },
  {
   "cell_type": "markdown",
   "metadata": {},
   "source": [
    "## 并发例子"
   ]
  },
  {
   "cell_type": "code",
   "execution_count": 3,
   "metadata": {},
   "outputs": [
    {
     "name": "stdout",
     "output_type": "stream",
     "text": [
      "result should be 49995000\n",
      "fact is 49995000\n"
     ]
    }
   ],
   "source": [
    "import multiprocessing\n",
    "\n",
    "def make_data(queue, num, work_nums):\n",
    "    for i in range(num):\n",
    "        queue.put(i)\n",
    "    for i in range(work_nums):\n",
    "        queue.put(None)\n",
    "\n",
    "def handle_data(queue, share_value, lock):\n",
    "    while True:\n",
    "        data = queue.get()\n",
    "        if data is None:\n",
    "            break\n",
    "        lock.acquire()\n",
    "        share_value.value = share_value.value + data\n",
    "        lock.release()\n",
    "\n",
    "if __name__ == \"__main__\":\n",
    "    queue = multiprocessing.Queue()  # 进程间通信所用\n",
    "    share_value = multiprocessing.Value(\"i\", 0)  # 进程间共享所用\n",
    "    lock = multiprocessing.Lock()  # 进程间共享内存时，采用锁同步机制\n",
    "    num = 10000  #\n",
    "    work_nums = 5  # work进程个数\n",
    "    sub_process = []  # 处理数据进程集合\n",
    "\n",
    "    master_process = multiprocessing.Process(target=make_data, args=(queue, num, work_nums, ))  # 生成数据进程\n",
    "    for i in range(work_nums):\n",
    "        sub_process1 = multiprocessing.Process(target=handle_data, args=(queue, share_value, lock,))\n",
    "        sub_process.append(sub_process1)\n",
    "\n",
    "    master_process.start()\n",
    "    for p in sub_process:\n",
    "        p.start()\n",
    "\n",
    "    master_process.join()\n",
    "    for p in sub_process:\n",
    "        p.join()\n",
    "\n",
    "    # 结果对比\n",
    "    result = 0\n",
    "    for i in range(num):\n",
    "        result = result + i\n",
    "    print(\"result should be \" + str(result))\n",
    "    print(\"fact is \" + str(share_value.value))"
   ]
  },
  {
   "cell_type": "markdown",
   "metadata": {},
   "source": [
    "## 并发(concurrency) vs 并行(parallellism)\n",
    "* Concurrency is not Parallelism\n",
    "* Concurrency enables parallelism & makes parallelism (and scaling and everything else) easy\n",
    "\n",
    "* 当有多个线程在操作时，如果系统只有一个 CPU，则它根本不可能真正同时进行一个以上的线程，它只能把 CPU 运行时间划分成若干个时间段，再将时间段分配给各个线程执行，在一个时间段的线程代码运行时,其它线程处于挂起状态.这种方式我们称之为并发（Concurrent）。\n",
    "\n",
    "* 当系统有一个以上 CPU 时，则线程的操作有可能非并发。当一个 CPU 执行一个线程时，另一个 CPU 可以执行另一个线程，两个线程互不抢占 CPU 资源，可以同时进行，这种方式我们称之为并行（Parallel）\n",
    "\n",
    "![](./figs/concurrent_parallel.png)"
   ]
  },
  {
   "cell_type": "markdown",
   "metadata": {},
   "source": [
    "## 阻塞与非阻塞:\n",
    "\n",
    "* 阻塞是指调用线程或者进程被操作系统挂起。\n",
    "* 非阻塞是指调用线程或者进程不会被操作系统挂起。\n",
    "\n",
    "## 同步与异步:\n",
    "* 同步是阻塞模式: 同步就是指一个进程在执行某个请求的时候，若该请求需要一段时间才能返回信息，那么这个进程将会一直等待下去，知道收到返回信息才继续执行下去；\n",
    "\n",
    "* 异步是非阻塞模式:异步是指进程不需要一直等下去，而是继续执行下面的操作，不管其他进程的状态。当有消息返回式系统会通知进程进行处理，这样可以提高执行的效率。\n"
   ]
  },
  {
   "cell_type": "markdown",
   "metadata": {},
   "source": [
    "## 协程\n",
    "* 协程，又称微线程，纤程。英文名Coroutine。一句话说明什么是线程：协程是一种用户态的轻量级线程。协程不是被操作系统内核所管理，而完全是由程序所控制\n",
    "\n",
    "协程的好处：\n",
    "* 无需线程上下文切换的开销\n",
    "* 无需原子操作锁定及同步的开销\n",
    "* 方便切换控制流，简化编程模型\n",
    "\n",
    "缺点：\n",
    "* 无法利用多核资源：协程的本质是个单线程,它不能同时将 单个CPU 的多个核用上,协程需要和进程配合才能运行在多CPU上.当然我们日常所编写的绝大部分应用都没有这个必要，除非是cpu密集型应用。\n",
    "* 进行阻塞（Blocking）操作（如IO时）会阻塞掉整个程序\n"
   ]
  },
  {
   "cell_type": "code",
   "execution_count": 4,
   "metadata": {},
   "outputs": [
    {
     "name": "stdout",
     "output_type": "stream",
     "text": [
      "1 before---func1----\n",
      "2 before---func1----\n",
      "Hello Parallel Python CookBook!!\n",
      "\n",
      "Hello Parallel Python CookBook!!\n",
      "\n",
      "1 after---func1----\n",
      "2 after---func1----\n",
      "5.007609128952026\n"
     ]
    }
   ],
   "source": [
    "# python3.7 需要安装pip install tornado==4.5.3\n",
    "import asyncio,time\n",
    "\n",
    "@asyncio.coroutine #设为异步函数\n",
    "def func1(num):\n",
    "    print(num,'before---func1----')\n",
    "    yield from asyncio.sleep(5)\n",
    "    print(num,'after---func1----')\n",
    "\n",
    "task = [func1(1),func1(2)]\n",
    "\n",
    "if __name__ == \"__main__\":\n",
    "    begin = time.time()\n",
    "    loop = asyncio.get_event_loop() #进入事件循环\n",
    "    loop.run_until_complete(asyncio.gather(*task)) #将协同程序注册到事件循环中\n",
    "    loop.close()\n",
    "    end = time.time()\n",
    "    print(end-begin)"
   ]
  },
  {
   "cell_type": "code",
   "execution_count": 5,
   "metadata": {},
   "outputs": [
    {
     "name": "stdout",
     "output_type": "stream",
     "text": [
      "4\n",
      "foo\n",
      "4\n",
      "end bar\n",
      "Hello Parallel Python CookBook!!\n",
      "\n",
      "Hello Parallel Python CookBook!!\n",
      "\n",
      "Hello Parallel Python CookBook!!\n",
      "\n",
      "Hello Parallel Python CookBook!!\n",
      "\n",
      "Hello Parallel Python CookBook!!\n",
      "\n",
      "Hello Parallel Python CookBook!!\n",
      "\n",
      "Hello Parallel Python CookBook!!\n",
      "\n",
      "Thread Ended\n",
      "\n"
     ]
    }
   ],
   "source": [
    "from greenlet import greenlet\n",
    "\n",
    "def foo():\n",
    "    print(\"foo\")\n",
    "    bar()\n",
    "\n",
    "def bar():\n",
    "    a = 3 + 1\n",
    "    print(a)\n",
    "    gr2.switch()\n",
    "    print(\"end bar\")\n",
    "\n",
    "\n",
    "gr1 = greenlet(bar)\n",
    "gr2 = greenlet(foo)\n",
    "gr1.switch()"
   ]
  }
 ],
 "metadata": {
  "kernelspec": {
   "display_name": "Python 3",
   "language": "python",
   "name": "python3"
  },
  "language_info": {
   "codemirror_mode": {
    "name": "ipython",
    "version": 3
   },
   "file_extension": ".py",
   "mimetype": "text/x-python",
   "name": "python",
   "nbconvert_exporter": "python",
   "pygments_lexer": "ipython3",
   "version": "3.7.3"
  },
  "toc-autonumbering": true
 },
 "nbformat": 4,
 "nbformat_minor": 4
}
