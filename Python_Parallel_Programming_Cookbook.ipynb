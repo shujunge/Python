{
 "cells": [
  {
   "cell_type": "markdown",
   "metadata": {
    "toc-hr-collapsed": true
   },
   "source": [
    "# 第一章"
   ]
  },
  {
   "cell_type": "markdown",
   "metadata": {},
   "source": [
    "## The parallel computing memory architecture\n",
    "* Single instruction, single data (SISD)\n",
    "![](./figs/SISD.png)\n",
    "* Single instruction, multiple data (SIMD)\n",
    "\n",
    "* Multiple instruction, single data (MISD)\n",
    "![](./figs/MISD.png)\n",
    "* Multiple instruction, multiple data (MIMD)\n",
    "![](./figs/MIMD.png)"
   ]
  },
  {
   "cell_type": "markdown",
   "metadata": {},
   "source": [
    "## Memory organization\n",
    "![](figs/memory_MIMD.png)"
   ]
  },
  {
   "cell_type": "markdown",
   "metadata": {},
   "source": [
    "## Shared memory\n",
    "![](./figs/share_memory.png)"
   ]
  },
  {
   "cell_type": "markdown",
   "metadata": {},
   "source": [
    "## Distributed memory\n",
    "![](./figs/Distributed_memory.png)"
   ]
  },
  {
   "cell_type": "markdown",
   "metadata": {
    "toc-hr-collapsed": true
   },
   "source": [
    "## Parallel programming models\n",
    "* The shared memory model\n",
    "* The multithread model\n",
    "* The distributed memory/message passing model\n",
    "* The data parallel model"
   ]
  },
  {
   "cell_type": "markdown",
   "metadata": {},
   "source": [
    "### The shared memory model\n",
    "在此模型中，任务共享一个共享内存区域，其中对共享资源的访问（读取和写入数据）是异步的。 有一些机制允许程序员控制对共享内存的访问，例如，锁或信号灯。 这种模型的优点是程序员不必明确任务之间的通信。 在性能方面的一个重要缺点是，它变得更加难以理解和管理数据局部性。 将数据保留在使用该处理器的处理器本地，可以节省内存访问，高速缓存刷新以及在多个处理器使用同一数据时发生的总线流量。"
   ]
  },
  {
   "cell_type": "markdown",
   "metadata": {},
   "source": [
    "### The multithread model"
   ]
  },
  {
   "cell_type": "markdown",
   "metadata": {},
   "source": [
    "### The message passing model\n",
    "消息传递模型通常适用于每个处理器都有自己的内存（分布式内存系统）的情况。 更多任务可以驻留在同一台物理计算机上或任意数量的计算机上。 程序员负责确定通过消息进行的并行性和数据交换。 此并行编程模型的实现需要使用要使用的（临时）软件库\n",
    "在代码中。 线程/进程通信对应着消息传递模式."
   ]
  },
  {
   "cell_type": "markdown",
   "metadata": {},
   "source": [
    "### The data parallel model\n",
    "![](./figs/data_parallel.png)"
   ]
  },
  {
   "cell_type": "markdown",
   "metadata": {
    "toc-hr-collapsed": true
   },
   "source": [
    "## How to evaluate the performance of a parallel program\n"
   ]
  },
  {
   "cell_type": "markdown",
   "metadata": {},
   "source": [
    "### Speedup\n",
    "\n",
    "$S = \\frac{T_{S}}{T_{p}}$, p identical processing elements\n",
    "\n",
    "* S = p is linear or ideal speedup\n",
    "* S < p is real speedup\n",
    "* S > p is superlinear speedup"
   ]
  },
  {
   "cell_type": "markdown",
   "metadata": {},
   "source": [
    "## Start working with processes in Python"
   ]
  },
  {
   "cell_type": "code",
   "execution_count": 1,
   "metadata": {},
   "outputs": [],
   "source": [
    "# import os\n",
    "# import sys\n",
    "# ##this is the code to execute\n",
    "# program = \"python\"\n",
    "# print(\"Process calling\")\n",
    "# arguments = [\"called_Process.py\"]\n",
    "# ##we call the called_Process.py script\n",
    "# os.execvp(program, (program,) + tuple(arguments))\n",
    "# print(\"Good Bye!!\")"
   ]
  },
  {
   "cell_type": "markdown",
   "metadata": {},
   "source": [
    "## Start working with threads in Python\n",
    "\n",
    "* 基于线程的并行性是编写并行程序的标准方法。 但是，Python解释器不是完全线程安全的。 为了支持多线程Python程序，使用了称为全局解释器锁（GIL）的全局锁。 这意味着只有一个线程可以同时执行Python代码。 短时间或某个线程执行可能需要一段时间的操作后，Python会自动切换到下一个线程。\n",
    "* 使用线程时要注意的一个关键点是，必须始终确保永远不要让任何线程在后台运行。"
   ]
  },
  {
   "cell_type": "code",
   "execution_count": 2,
   "metadata": {},
   "outputs": [
    {
     "name": "stdout",
     "output_type": "stream",
     "text": [
      "Process Started\n",
      "Thread Starting\n",
      "\n",
      "Hello Parallel Python CookBook!!\n",
      "\n",
      "Process Ended\n"
     ]
    }
   ],
   "source": [
    "from threading import Thread\n",
    "##Also we use the sleep function to make the thread \"sleep\"\n",
    "from time import sleep\n",
    "## To create a thread in Python you'll want to make your class work as a thread.\n",
    "## For this, you should subclass your class from the Thread class\n",
    "class CookBook(Thread):\n",
    "    def __init__(self):\n",
    "        Thread.__init__(self)\n",
    "        self.message = \"Hello Parallel Python CookBook!!\\n\"\n",
    "    ##this method prints only the message\n",
    "    def print_message(self):\n",
    "        print (self.message)\n",
    "        ##The run method prints ten times the message\n",
    "    def run(self):\n",
    "        print (\"Thread Starting\\n\")\n",
    "        x=0\n",
    "        while (x < 10):\n",
    "            self.print_message()\n",
    "            sleep(2)\n",
    "            x += 1\n",
    "        print (\"Thread Ended\\n\")\n",
    "#start the main process\n",
    "print (\"Process Started\")\n",
    "\n",
    "# create an instance of the HelloWorld class\n",
    "hello_Python = CookBook()\n",
    "# print the message...starting the thread\n",
    "hello_Python.start()\n",
    "#end the main process\n",
    "print (\"Process Ended\")"
   ]
  },
  {
   "cell_type": "markdown",
   "metadata": {},
   "source": [
    "## 并发例子"
   ]
  },
  {
   "cell_type": "code",
   "execution_count": 3,
   "metadata": {},
   "outputs": [
    {
     "name": "stdout",
     "output_type": "stream",
     "text": [
      "result should be 49995000\n",
      "fact is 49995000\n"
     ]
    }
   ],
   "source": [
    "import multiprocessing\n",
    "\n",
    "def make_data(queue, num, work_nums):\n",
    "    for i in range(num):\n",
    "        queue.put(i)\n",
    "    for i in range(work_nums):\n",
    "        queue.put(None)\n",
    "\n",
    "def handle_data(queue, share_value, lock):\n",
    "    while True:\n",
    "        data = queue.get()\n",
    "        if data is None:\n",
    "            break\n",
    "        lock.acquire()\n",
    "        share_value.value = share_value.value + data\n",
    "        lock.release()\n",
    "\n",
    "if __name__ == \"__main__\":\n",
    "    queue = multiprocessing.Queue()  # 进程间通信所用\n",
    "    share_value = multiprocessing.Value(\"i\", 0)  # 进程间共享所用\n",
    "    lock = multiprocessing.Lock()  # 进程间共享内存时，采用锁同步机制\n",
    "    num = 10000  #\n",
    "    work_nums = 5  # work进程个数\n",
    "    sub_process = []  # 处理数据进程集合\n",
    "\n",
    "    master_process = multiprocessing.Process(target=make_data, args=(queue, num, work_nums, ))  # 生成数据进程\n",
    "    for i in range(work_nums):\n",
    "        sub_process1 = multiprocessing.Process(target=handle_data, args=(queue, share_value, lock,))\n",
    "        sub_process.append(sub_process1)\n",
    "\n",
    "    master_process.start()\n",
    "    for p in sub_process:\n",
    "        p.start()\n",
    "\n",
    "    master_process.join()\n",
    "    for p in sub_process:\n",
    "        p.join()\n",
    "\n",
    "    # 结果对比\n",
    "    result = 0\n",
    "    for i in range(num):\n",
    "        result = result + i\n",
    "    print(\"result should be \" + str(result))\n",
    "    print(\"fact is \" + str(share_value.value))"
   ]
  },
  {
   "cell_type": "markdown",
   "metadata": {},
   "source": [
    "## 并发(concurrency) vs 并行(parallellism)\n",
    "* Concurrency is not Parallelism\n",
    "* Concurrency enables parallelism & makes parallelism (and scaling and everything else) easy\n",
    "\n",
    "* 当有多个线程在操作时，如果系统只有一个 CPU，则它根本不可能真正同时进行一个以上的线程，它只能把 CPU 运行时间划分成若干个时间段，再将时间段分配给各个线程执行，在一个时间段的线程代码运行时,其它线程处于挂起状态.这种方式我们称之为并发（Concurrent）。\n",
    "\n",
    "* 当系统有一个以上 CPU 时，则线程的操作有可能非并发。当一个 CPU 执行一个线程时，另一个 CPU 可以执行另一个线程，两个线程互不抢占 CPU 资源，可以同时进行，这种方式我们称之为并行（Parallel）\n",
    "\n",
    "![](./figs/concurrent_parallel.png)"
   ]
  },
  {
   "cell_type": "markdown",
   "metadata": {},
   "source": [
    "## 阻塞与非阻塞:\n",
    "\n",
    "* 阻塞是指调用线程或者进程被操作系统挂起。\n",
    "* 非阻塞是指调用线程或者进程不会被操作系统挂起。\n",
    "\n",
    "## 同步与异步:\n",
    "* 同步是阻塞模式: 同步就是指一个进程在执行某个请求的时候，若该请求需要一段时间才能返回信息，那么这个进程将会一直等待下去，知道收到返回信息才继续执行下去；\n",
    "\n",
    "* 异步是非阻塞模式:异步是指进程不需要一直等下去，而是继续执行下面的操作，不管其他进程的状态。当有消息返回式系统会通知进程进行处理，这样可以提高执行的效率。\n"
   ]
  },
  {
   "cell_type": "markdown",
   "metadata": {},
   "source": [
    "## 协程\n",
    "* 协程，又称微线程，纤程。英文名Coroutine。一句话说明什么是线程：协程是一种用户态的轻量级线程。协程不是被操作系统内核所管理，而完全是由程序所控制\n",
    "\n",
    "协程的好处：\n",
    "* 无需线程上下文切换的开销\n",
    "* 无需原子操作锁定及同步的开销\n",
    "* 方便切换控制流，简化编程模型\n",
    "\n",
    "缺点：\n",
    "* 无法利用多核资源：协程的本质是个单线程,它不能同时将 单个CPU 的多个核用上,协程需要和进程配合才能运行在多CPU上.当然我们日常所编写的绝大部分应用都没有这个必要，除非是cpu密集型应用。\n",
    "* 进行阻塞（Blocking）操作（如IO时）会阻塞掉整个程序\n"
   ]
  },
  {
   "cell_type": "code",
   "execution_count": 4,
   "metadata": {},
   "outputs": [],
   "source": [
    "# # python3.7 需要安装pip install tornado==4.5.3\n",
    "# import asyncio,time\n",
    "\n",
    "# @asyncio.coroutine #设为异步函数\n",
    "# def func1(num):\n",
    "#     print(num,'before---func1----')\n",
    "#     yield from asyncio.sleep(5)\n",
    "#     print(num,'after---func1----')\n",
    "\n",
    "# task = [func1(1),func1(2)]\n",
    "\n",
    "# if __name__ == \"__main__\":\n",
    "#     begin = time.time()\n",
    "#     loop = asyncio.get_event_loop() #进入事件循环\n",
    "#     loop.run_until_complete(asyncio.gather(*task)) #将协同程序注册到事件循环中\n",
    "#     loop.close()\n",
    "#     end = time.time()\n",
    "#     print(end-begin)"
   ]
  },
  {
   "cell_type": "code",
   "execution_count": 5,
   "metadata": {},
   "outputs": [
    {
     "name": "stdout",
     "output_type": "stream",
     "text": [
      "4\n",
      "foo\n",
      "4\n",
      "end bar\n"
     ]
    }
   ],
   "source": [
    "from greenlet import greenlet\n",
    "\n",
    "def foo():\n",
    "    print(\"foo\")\n",
    "    bar()\n",
    "\n",
    "def bar():\n",
    "    a = 3 + 1\n",
    "    print(a)\n",
    "    gr2.switch()\n",
    "    print(\"end bar\")\n",
    "\n",
    "\n",
    "gr1 = greenlet(bar)\n",
    "gr2 = greenlet(foo)\n",
    "gr1.switch()"
   ]
  },
  {
   "cell_type": "markdown",
   "metadata": {
    "toc-hr-collapsed": true
   },
   "source": [
    "# 第二章 Thread-based Parallelism\n",
    "\n",
    "当前，用于软件应用程序并发管理的最广泛使用的编程范例是基于多线程的。 通常，应用程序是由单个进程创建的，该进程分为多个独立的线程，这些线程代表并行运行并相互竞争的不同类型的活动。"
   ]
  },
  {
   "cell_type": "markdown",
   "metadata": {},
   "source": [
    "## Using the Python threading module\n",
    "* The thread object\n",
    "* The Lock object # 锁定对象\n",
    "* The RLock object #  RLock对象\n",
    "* The semaphore object # 信号量对象\n",
    "* The condition object # 条件对象\n",
    "* The event object # 事件对象"
   ]
  },
  {
   "cell_type": "markdown",
   "metadata": {},
   "source": [
    "## How to define a thread"
   ]
  },
  {
   "cell_type": "code",
   "execution_count": 6,
   "metadata": {},
   "outputs": [
    {
     "name": "stdout",
     "output_type": "stream",
     "text": [
      "function called by thread 0\n",
      "\n",
      "function called by thread 1\n",
      "\n",
      "function called by thread 2\n",
      "\n",
      "function called by thread 3\n",
      "\n",
      "function called by thread 4\n",
      "\n"
     ]
    }
   ],
   "source": [
    "import threading\n",
    "def function(i):\n",
    "    print (\"function called by thread %d\\n\" % i)\n",
    "    return \n",
    "\n",
    "threads = []\n",
    "for i in range(5):\n",
    "    t = threading.Thread(target=function , args=(i,))\n",
    "    threads.append(t)\n",
    "    t.start()\n",
    "    t.join()"
   ]
  },
  {
   "cell_type": "markdown",
   "metadata": {},
   "source": [
    "## How to determine the current thread"
   ]
  },
  {
   "cell_type": "code",
   "execution_count": 7,
   "metadata": {},
   "outputs": [
    {
     "name": "stdout",
     "output_type": "stream",
     "text": [
      "first_function is Starting \n",
      "\n",
      "second_function is Starting \n",
      "third_function is Starting \n",
      "\n",
      "\n"
     ]
    }
   ],
   "source": [
    "import threading\n",
    "import time\n",
    "def first_function():\n",
    "    print (threading.currentThread().getName()+\\\n",
    "    str(' is Starting \\n'))\n",
    "    time.sleep(2)\n",
    "    print (threading.currentThread().getName()+\\\n",
    "    str( ' is Exiting \\n'))\n",
    "    return\n",
    "def second_function():\n",
    "    print (threading.currentThread().getName()+\\\n",
    "    str(' is Starting \\n'))\n",
    "    time.sleep(2)\n",
    "    print (threading.currentThread().getName()+\\\n",
    "    str( ' is Exiting \\n'))\n",
    "    return\n",
    "def third_function():\n",
    "    print (threading.currentThread().getName()+\\\n",
    "    str(' is Starting \\n'))\n",
    "    time.sleep(2)\n",
    "    print (threading.currentThread().getName()+\\\n",
    "    str( ' is Exiting \\n'))\n",
    "    return\n",
    "\n",
    "t1 = threading.Thread(name='first_function', target=first_function)\n",
    "t2 = threading.Thread(name='second_function', target=second_function)\n",
    "t3 = threading.Thread(name='third_function',target=third_function)\n",
    "t1.start()\n",
    "t2.start()\n",
    "t3.start()"
   ]
  },
  {
   "cell_type": "markdown",
   "metadata": {},
   "source": [
    "## How to use a thread in a subclass"
   ]
  },
  {
   "cell_type": "code",
   "execution_count": 8,
   "metadata": {},
   "outputs": [
    {
     "name": "stdout",
     "output_type": "stream",
     "text": [
      "Starting Thread-1\n",
      "Starting Thread-2\n",
      "Exiting Main Thread\n"
     ]
    }
   ],
   "source": [
    "import threading\n",
    "import time\n",
    "\n",
    "\n",
    "class myThread (threading.Thread):\n",
    "    def __init__(self, threadID, name, counter):\n",
    "        threading.Thread.__init__(self)\n",
    "        self.threadID = threadID\n",
    "        self.name = name\n",
    "        self.counter = counter\n",
    "    def run(self):\n",
    "        print (\"Starting \" + self.name)\n",
    "        print_time(self.name, self.counter, 5)\n",
    "        print (\"Exiting \" + self.name)\n",
    "def print_time(threadName, delay, counter):\n",
    "    while counter:\n",
    "        time.sleep(delay)\n",
    "        print (\"%s: %s\" %(threadName, time.ctime(time.time())))\n",
    "        counter -= 1\n",
    "# Create new threads\n",
    "thread1 = myThread(1, \"Thread-1\", 1)\n",
    "thread2 = myThread(2, \"Thread-2\", 2)\n",
    "# Start new Threads\n",
    "thread1.start()\n",
    "thread2.start()\n",
    "print (\"Exiting Main Thread\")"
   ]
  },
  {
   "cell_type": "markdown",
   "metadata": {},
   "source": [
    "## Thread synchronization with Lock and RLock\n",
    "![](./figs/Deadlock.png)"
   ]
  },
  {
   "cell_type": "code",
   "execution_count": 9,
   "metadata": {},
   "outputs": [
    {
     "name": "stdout",
     "output_type": "stream",
     "text": [
      "the value of shared variable with lock management is 0\n",
      "the value of shared variable with race condition is 0\n"
     ]
    }
   ],
   "source": [
    "import threading\n",
    "shared_resource_with_lock = 0\n",
    "shared_resource_with_no_lock = 0\n",
    "COUNT = 100000\n",
    "shared_resource_lock = threading.Lock()\n",
    "####LOCK MANAGEMENT##\n",
    "def increment_with_lock():\n",
    "    global shared_resource_with_lock\n",
    "    for i in range(COUNT):\n",
    "        shared_resource_lock.acquire()\n",
    "        shared_resource_with_lock +=1\n",
    "        shared_resource_lock.release()\n",
    "def decrement_with_lock():\n",
    "    global shared_resource_with_lock\n",
    "    for i in range(COUNT):\n",
    "        shared_resource_lock.acquire()\n",
    "        shared_resource_with_lock -=1\n",
    "        shared_resource_lock.release()\n",
    "####NO LOCK MANAGEMENT ##\n",
    "def increment_without_lock():\n",
    "    global shared_resource_with_no_lock\n",
    "    for i in range(COUNT):\n",
    "        shared_resource_with_no_lock +=1\n",
    "def decrement_without_lock():\n",
    "    global shared_resource_with_no_lock\n",
    "    for i in range(COUNT):\n",
    "        shared_resource_with_no_lock -=1\n",
    "\n",
    "        \n",
    "####the Main program\n",
    "t1 = threading.Thread(target = increment_with_lock)\n",
    "t2 = threading.Thread(target = decrement_with_lock)\n",
    "t3 = threading.Thread(target = increment_without_lock)\n",
    "t4 = threading.Thread(target = decrement_without_lock)\n",
    "t1.start()\n",
    "t2.start()\n",
    "t3.start()\n",
    "t4.start()\n",
    "t1.join()\n",
    "t2.join()\n",
    "t3.join()\n",
    "t4.join()\n",
    "print (\"the value of shared variable with lock management is %s\"%shared_resource_with_lock)\n",
    "print (\"the value of shared variable with race condition is %s\"%shared_resource_with_no_lock)"
   ]
  },
  {
   "cell_type": "markdown",
   "metadata": {},
   "source": [
    "## Thread synchronization with RLock\n",
    "\n",
    "* 如果我们只希望获得锁的线程将其释放，则必须使用RLock（）对象。\n",
    "* 与Lock（）对象类似，RLock（）对象有两种方法：acquire（）和release（） 。\n",
    "* 当您想从外部访问线程安全时，RLock（）很有用。并在类内部使用相同的方法。"
   ]
  },
  {
   "cell_type": "code",
   "execution_count": 11,
   "metadata": {},
   "outputs": [
    {
     "name": "stdout",
     "output_type": "stream",
     "text": [
      "putting 5 items in the box \n",
      "adding 1 item in the box\n",
      "\n",
      "removing 1 item in the box\n",
      "adding 1 item in the box\n",
      "\n",
      "removing 1 item in the box\n",
      "adding 1 item in the box\n",
      "\n",
      "removing 1 item in the box\n",
      "removing 1 item in the box\n",
      "adding 1 item in the box\n",
      "\n",
      "removing 1 item in the box\n",
      "adding 1 item in the box\n",
      "\n",
      "0 items still remain in the box \n"
     ]
    }
   ],
   "source": [
    "import threading\n",
    "import time\n",
    "class Box(object):\n",
    "    lock = threading.RLock()\n",
    "    def __init__(self):\n",
    "        self.total_items = 0\n",
    "    def execute(self,n):\n",
    "        Box.lock.acquire()\n",
    "        self.total_items += n\n",
    "        Box.lock.release()\n",
    "    def add(self):\n",
    "        Box.lock.acquire()\n",
    "        self.execute(1)\n",
    "        Box.lock.release()\n",
    "    def remove(self):\n",
    "        Box.lock.acquire()\n",
    "        self.execute(-1)\n",
    "        Box.lock.release()\n",
    "## These two functions run n in separate\n",
    "## threads and call the Box's methods\n",
    "def adder(box,items):\n",
    "    while items > 0:\n",
    "        print (\"adding 1 item in the box\\n\")\n",
    "        box.add()\n",
    "        time.sleep(2)\n",
    "        items -= 1\n",
    "def remover(box,items):\n",
    "    while items > 0:\n",
    "        print (\"removing 1 item in the box\")\n",
    "        box.remove()\n",
    "        time.sleep(2)\n",
    "        items -= 1\n",
    "\n",
    "## the main program build some\n",
    "## threads and make sure it works\n",
    "items = 5\n",
    "print (\"putting %s items in the box \" % items)\n",
    "box = Box()\n",
    "t1 = threading.Thread(target=adder,args=(box,items))\n",
    "t2 = threading.Thread(target=remover,args=(box,items))\n",
    "t1.start()\n",
    "t2.start()\n",
    "t1.join()\n",
    "t2.join()\n",
    "print (\"%s items still remain in the box \" % box.total_items)"
   ]
  },
  {
   "cell_type": "markdown",
   "metadata": {},
   "source": [
    "## Thread synchronization with semaphores\n",
    "![](./figs/Semaphores.png)"
   ]
  },
  {
   "cell_type": "code",
   "execution_count": 14,
   "metadata": {},
   "outputs": [
    {
     "name": "stdout",
     "output_type": "stream",
     "text": [
      "consumer is waiting.\n",
      "producer notify : produced item number 387\n",
      "Consumer notify : consumed item number 387 \n",
      "consumer is waiting.\n",
      "producer notify : produced item number 313\n",
      "Consumer notify : consumed item number 313 \n",
      "consumer is waiting.\n",
      "producer notify : produced item number 845\n",
      "Consumer notify : consumed item number 845 \n",
      "consumer is waiting.\n",
      "producer notify : produced item number 557\n",
      "Consumer notify : consumed item number 557 \n",
      "producer notify : produced item number 2\n",
      "consumer is waiting.\n",
      "Consumer notify : consumed item number 2 \n",
      "producer notify : produced item number 721\n",
      "program terminated\n"
     ]
    }
   ],
   "source": [
    "###Using a Semaphore to synchronize threads\n",
    "import threading\n",
    "import time\n",
    "import random\n",
    "##The optional argument gives the initial value for the internal\n",
    "##counter;\n",
    "##it defaults to 1.\n",
    "##If the value given is less than 0, ValueError is raised.\n",
    "semaphore = threading.Semaphore(0)\n",
    "def consumer():\n",
    "    print (\"consumer is waiting.\")\n",
    "    ##Acquire a semaphore\n",
    "    semaphore.acquire()\n",
    "    ##The consumer have access to the shared resource\n",
    "    print (\"Consumer notify : consumed item number %s \" %item)\n",
    "def producer():\n",
    "    global item\n",
    "    time.sleep(2)\n",
    "    ##create a random item\n",
    "    item = random.randint(0,1000)\n",
    "    print (\"producer notify : produced item number %s\" %item)\n",
    "    ##Release a semaphore, incrementing the internal counter by one.\n",
    "    ##When it is zero on entry and another thread is waiting for it\n",
    "    ##to become larger than zero again, wake up that thread.\n",
    "    semaphore.release()\n",
    "    \n",
    "    \n",
    "#Main program\n",
    "for i in range (0,5) :\n",
    "    t1 = threading.Thread(target=producer)\n",
    "    t2 = threading.Thread(target=consumer)\n",
    "    t1.start()\n",
    "    t2.start()\n",
    "    t1.join()\n",
    "    t2.join()\n",
    "print (\"program terminated\")"
   ]
  },
  {
   "cell_type": "markdown",
   "metadata": {},
   "source": [
    "## Thread synchronization with a condition"
   ]
  },
  {
   "cell_type": "code",
   "execution_count": 17,
   "metadata": {},
   "outputs": [
    {
     "ename": "KeyboardInterrupt",
     "evalue": "",
     "output_type": "error",
     "traceback": [
      "\u001b[0;31m---------------------------------------------------------------------------\u001b[0m",
      "\u001b[0;31mKeyboardInterrupt\u001b[0m                         Traceback (most recent call last)",
      "\u001b[0;32m<ipython-input-17-459ba585c546>\u001b[0m in \u001b[0;36m<module>\u001b[0;34m\u001b[0m\n\u001b[1;32m     51\u001b[0m \u001b[0mconsumer\u001b[0m\u001b[0;34m.\u001b[0m\u001b[0mstart\u001b[0m\u001b[0;34m(\u001b[0m\u001b[0;34m)\u001b[0m\u001b[0;34m\u001b[0m\u001b[0;34m\u001b[0m\u001b[0m\n\u001b[1;32m     52\u001b[0m \u001b[0mproducer\u001b[0m\u001b[0;34m.\u001b[0m\u001b[0mjoin\u001b[0m\u001b[0;34m(\u001b[0m\u001b[0;34m)\u001b[0m\u001b[0;34m\u001b[0m\u001b[0;34m\u001b[0m\u001b[0m\n\u001b[0;32m---> 53\u001b[0;31m \u001b[0mconsumer\u001b[0m\u001b[0;34m.\u001b[0m\u001b[0mjoin\u001b[0m\u001b[0;34m(\u001b[0m\u001b[0;34m)\u001b[0m\u001b[0;34m\u001b[0m\u001b[0;34m\u001b[0m\u001b[0m\n\u001b[0m",
      "\u001b[0;32m~/anaconda3/lib/python3.7/threading.py\u001b[0m in \u001b[0;36mjoin\u001b[0;34m(self, timeout)\u001b[0m\n\u001b[1;32m   1030\u001b[0m \u001b[0;34m\u001b[0m\u001b[0m\n\u001b[1;32m   1031\u001b[0m         \u001b[0;32mif\u001b[0m \u001b[0mtimeout\u001b[0m \u001b[0;32mis\u001b[0m \u001b[0;32mNone\u001b[0m\u001b[0;34m:\u001b[0m\u001b[0;34m\u001b[0m\u001b[0;34m\u001b[0m\u001b[0m\n\u001b[0;32m-> 1032\u001b[0;31m             \u001b[0mself\u001b[0m\u001b[0;34m.\u001b[0m\u001b[0m_wait_for_tstate_lock\u001b[0m\u001b[0;34m(\u001b[0m\u001b[0;34m)\u001b[0m\u001b[0;34m\u001b[0m\u001b[0;34m\u001b[0m\u001b[0m\n\u001b[0m\u001b[1;32m   1033\u001b[0m         \u001b[0;32melse\u001b[0m\u001b[0;34m:\u001b[0m\u001b[0;34m\u001b[0m\u001b[0;34m\u001b[0m\u001b[0m\n\u001b[1;32m   1034\u001b[0m             \u001b[0;31m# the behavior of a negative timeout isn't documented, but\u001b[0m\u001b[0;34m\u001b[0m\u001b[0;34m\u001b[0m\u001b[0;34m\u001b[0m\u001b[0m\n",
      "\u001b[0;32m~/anaconda3/lib/python3.7/threading.py\u001b[0m in \u001b[0;36m_wait_for_tstate_lock\u001b[0;34m(self, block, timeout)\u001b[0m\n\u001b[1;32m   1046\u001b[0m         \u001b[0;32mif\u001b[0m \u001b[0mlock\u001b[0m \u001b[0;32mis\u001b[0m \u001b[0;32mNone\u001b[0m\u001b[0;34m:\u001b[0m  \u001b[0;31m# already determined that the C code is done\u001b[0m\u001b[0;34m\u001b[0m\u001b[0;34m\u001b[0m\u001b[0m\n\u001b[1;32m   1047\u001b[0m             \u001b[0;32massert\u001b[0m \u001b[0mself\u001b[0m\u001b[0;34m.\u001b[0m\u001b[0m_is_stopped\u001b[0m\u001b[0;34m\u001b[0m\u001b[0;34m\u001b[0m\u001b[0m\n\u001b[0;32m-> 1048\u001b[0;31m         \u001b[0;32melif\u001b[0m \u001b[0mlock\u001b[0m\u001b[0;34m.\u001b[0m\u001b[0macquire\u001b[0m\u001b[0;34m(\u001b[0m\u001b[0mblock\u001b[0m\u001b[0;34m,\u001b[0m \u001b[0mtimeout\u001b[0m\u001b[0;34m)\u001b[0m\u001b[0;34m:\u001b[0m\u001b[0;34m\u001b[0m\u001b[0;34m\u001b[0m\u001b[0m\n\u001b[0m\u001b[1;32m   1049\u001b[0m             \u001b[0mlock\u001b[0m\u001b[0;34m.\u001b[0m\u001b[0mrelease\u001b[0m\u001b[0;34m(\u001b[0m\u001b[0;34m)\u001b[0m\u001b[0;34m\u001b[0m\u001b[0;34m\u001b[0m\u001b[0m\n\u001b[1;32m   1050\u001b[0m             \u001b[0mself\u001b[0m\u001b[0;34m.\u001b[0m\u001b[0m_stop\u001b[0m\u001b[0;34m(\u001b[0m\u001b[0;34m)\u001b[0m\u001b[0;34m\u001b[0m\u001b[0;34m\u001b[0m\u001b[0m\n",
      "\u001b[0;31mKeyboardInterrupt\u001b[0m: "
     ]
    }
   ],
   "source": [
    "from threading import Thread, Condition\n",
    "import time\n",
    "items = []\n",
    "condition = Condition()\n",
    "class consumer(Thread):\n",
    "    def __init__(self):\n",
    "        Thread.__init__(self)\n",
    "    def consume(self):\n",
    "        global condition\n",
    "        global items\n",
    "        condition.acquire()\n",
    "        if len(items) == 0:\n",
    "            condition.wait()\n",
    "            print(\"Consumer notify : no item to consume\")\n",
    "            items.pop()\n",
    "            print(\"Consumer notify : consumed 1 item\")\n",
    "            print(\"Consumer notify : items to consume are \"\\\n",
    "            + str(len(items)))\n",
    "            condition.notify()\n",
    "        condition.release()\n",
    "    def run(self):\n",
    "        for i in range(0,20):\n",
    "            time.sleep(1)\n",
    "            self.consume()\n",
    "class producer(Thread):\n",
    "    def __init__(self):\n",
    "        Thread.__init__(self)\n",
    "    def produce(self):\n",
    "        global condition\n",
    "        global items\n",
    "        condition.acquire()\n",
    "        if len(items) == 10:\n",
    "            condition.wait()\n",
    "            print(\"Producer notify : items producted are \"\\\n",
    "            + str(len(items)))\n",
    "            print(\"Producer notify : stop the production!!\")\n",
    "            items.append(1)\n",
    "            print(\"Producer notify : total items producted \"\\\n",
    "            + str(len(items)))\n",
    "            condition.notify()\n",
    "        condition.release()\n",
    "    def run(self):\n",
    "        for i in range(0,20):\n",
    "            time.sleep(1)\n",
    "            self.produce()\n",
    "\n",
    "\n",
    "producer = producer()\n",
    "consumer = consumer()\n",
    "producer.start()\n",
    "consumer.start()\n",
    "producer.join()\n",
    "consumer.join()"
   ]
  },
  {
   "cell_type": "markdown",
   "metadata": {},
   "source": [
    "## Thread synchronization with an event"
   ]
  },
  {
   "cell_type": "code",
   "execution_count": null,
   "metadata": {},
   "outputs": [],
   "source": [
    "import time\n",
    "from threading import Thread, Event\n",
    "import random\n",
    "items = []\n",
    "event = Event()\n",
    "class consumer(Thread):\n",
    "    def __init__(self, items, event):\n",
    "        Thread.__init__(self)\n",
    "        self.items = items\n",
    "        self.event = event\n",
    "    def run(self):\n",
    "        while True:\n",
    "            time.sleep(2)\n",
    "            self.event.wait()\n",
    "            item = self.items.pop()\n",
    "            print ('Consumer notify : %d popped from list by %s'\\\n",
    "            %(item, self.name))\n",
    "class producer(Thread):\n",
    "    def __init__(self, integers, event):\n",
    "        Thread.__init__(self)\n",
    "        self.items = items\n",
    "        self.event = event\n",
    "    def run(self):\n",
    "        global item\n",
    "        for i in range(100):\n",
    "            time.sleep(2)\n",
    "            item = random.randint(0, 256)\n",
    "            self.items.append(item)\n",
    "            print ('Producer notify : item N° %d appended \\\n",
    "            to list by %s'\\\n",
    "            % (item, self.name))\n",
    "            print ('Producer notify : event set by %s'\\\n",
    "            % self.name)\n",
    "            self.event.set()\n",
    "            print ('Produce notify : event cleared by %s \\n'\\\n",
    "            % self.name)\n",
    "            self.event.clear()\n",
    "\n",
    "t1 = producer(items, event)\n",
    "t2 = consumer(items, event)\n",
    "t1.start()\n",
    "t2.start()\n",
    "t1.join()\n",
    "t2.join()"
   ]
  },
  {
   "cell_type": "markdown",
   "metadata": {},
   "source": [
    "## Thread communication using a queue"
   ]
  },
  {
   "cell_type": "code",
   "execution_count": null,
   "metadata": {},
   "outputs": [],
   "source": [
    "from threading import Thread, Event\n",
    "from queue import Queue\n",
    "import time\n",
    "import random\n",
    "class producer(Thread):\n",
    "    def __init__(self, queue):\n",
    "        Thread.__init__(self)\n",
    "        self.queue = queue\n",
    "    def run(self) :\n",
    "        for i in range(10):\n",
    "            item = random.randint(0, 256)\n",
    "            self.queue.put(item)\n",
    "            print ('Producer notify: item N°%d appended to queue by %s \\n'% (item, self.name))\n",
    "            time.sleep(1)\n",
    "class consumer(Thread):\n",
    "    def __init__(self, queue):\n",
    "        Thread.__init__(self)\n",
    "        self.queue = queue\n",
    "    def run(self):\n",
    "        while True:\n",
    "            item = self.queue.get()\n",
    "            print ('Consumer notify : %d popped from queue by %s'\\\n",
    "            % (item, self.name))\n",
    "            self.queue.task_done()\n",
    "            \n",
    "queue = Queue()\n",
    "t1 = producer(queue)\n",
    "t2 = consumer(queue)\n",
    "t3 = consumer(queue)\n",
    "t4 = consumer(queue)\n",
    "t1.start()\n",
    "t2.start()\n",
    "t3.start()\n",
    "t4.start()\n",
    "t1.join()\n",
    "t2.join()\n",
    "t3.join()\n",
    "t4.join()"
   ]
  },
  {
   "cell_type": "markdown",
   "metadata": {},
   "source": [
    "## Evaluating the performance of multithread applications\n",
    "我们将验证GIL的影响，评估多线程应用程序的性能。如上一章所述，GIL是CPython解释器引入的锁。 GIL阻止在解释器中并行执行多个线程。在执行之前，每个线程必须等待GIL释放正在运行的线程。实际上，解释器会强制执行线程在GIL访问解释器本身上的任何内容（如Python对象的堆栈和实例）之前获取GIL。这正是GIL的目的-阻止并发访问来自不同线程的Python对象。然后，GIL保护解释器的内存，并使垃圾以正确的方式工作。事实是，GIL阻止程序员通过并行执行线程来提高性能。如果我们从CPython解释器中删除GIL，则线程将并行执行。 GIL不会阻止进程在其他处理器上运行，它只是一次只允许一个线程进入解释器内部。"
   ]
  },
  {
   "cell_type": "code",
   "execution_count": null,
   "metadata": {},
   "outputs": [],
   "source": [
    "from threading import Thread\n",
    "\n",
    "class threads_object(Thread):\n",
    "    def run(self):\n",
    "        function_to_run()\n",
    "\n",
    "class nothreads_object(object):\n",
    "    def run(self):\n",
    "        function_to_run()\n",
    "        \n",
    "def non_threaded(num_iter):\n",
    "    funcs = []\n",
    "    for i in range(int(num_iter)):\n",
    "        funcs.append(nothreads_object())\n",
    "        for i in funcs:\n",
    "            i.run()\n",
    "def threaded(num_threads):\n",
    "    funcs = []\n",
    "    for i in range(int(num_threads)):\n",
    "        funcs.append(threads_object())\n",
    "        for i in funcs:\n",
    "            i.start()\n",
    "        for i in funcs:\n",
    "            i.join()\n",
    "def function_to_run():\n",
    "    pass\n",
    "\n",
    "def show_results(func_name, results):\n",
    "    print (\"%-23s %4.6f seconds\" % (func_name, results))\n",
    "\n",
    "    \n",
    "import sys\n",
    "from timeit import Timer\n",
    "repeat = 100\n",
    "number = 1\n",
    "num_threads = [ 1, 2, 4, 8]\n",
    "print ('Starting tests')\n",
    "for i in num_threads:\n",
    "    t = Timer(\"non_threaded(%s)\"% i, \"from __main__ import non_threaded\")\n",
    "    best_result =min(t.repeat(repeat=repeat, number=number))\n",
    "    show_results(\"non_threaded (%s iters)\" % i, best_result)\n",
    "    t = Timer(\"threaded(%s)\" % i, \"from __main__ import threaded\")\n",
    "    best_result = min(t.repeat(repeat=repeat, number=number))\n",
    "    show_results(\"threaded (%s threads)\"% i, best_result)\n",
    "print ('Iterations complete')"
   ]
  },
  {
   "cell_type": "markdown",
   "metadata": {},
   "source": [
    "# 第三章 Process-based Parallelism"
   ]
  },
  {
   "cell_type": "markdown",
   "metadata": {},
   "source": [
    "## How to spawn a process"
   ]
  },
  {
   "cell_type": "code",
   "execution_count": 1,
   "metadata": {},
   "outputs": [
    {
     "name": "stdout",
     "output_type": "stream",
     "text": [
      "called function in process: 0\n",
      "called function in process: 1\n",
      "called function in process: 2\n",
      "called function in process: 3\n",
      "called function in process: 4\n"
     ]
    }
   ],
   "source": [
    "import multiprocessing\n",
    "def foo(i):\n",
    "    print ('called function in process: %s' %i)\n",
    "    return\n",
    "if __name__ == '__main__':\n",
    "    Process_jobs = []\n",
    "    for i in range(5):\n",
    "        p = multiprocessing.Process(target=foo, args=(i,))\n",
    "        Process_jobs.append(p)\n",
    "        p.start()\n",
    "        p.join()"
   ]
  },
  {
   "cell_type": "markdown",
   "metadata": {},
   "source": [
    "## How to name a process"
   ]
  },
  {
   "cell_type": "code",
   "execution_count": 2,
   "metadata": {},
   "outputs": [
    {
     "name": "stdout",
     "output_type": "stream",
     "text": [
      "Starting foo_process \n",
      "\n",
      "Starting Process-7 \n",
      "\n",
      "Exiting foo_process \n",
      "\n",
      "Exiting Process-7 \n",
      "\n"
     ]
    }
   ],
   "source": [
    "import multiprocessing\n",
    "import time\n",
    "def foo():\n",
    "    name = multiprocessing.current_process().name\n",
    "    print (\"Starting %s \\n\" %name)\n",
    "    time.sleep(3)\n",
    "    print (\"Exiting %s \\n\" %name)\n",
    "if __name__ == '__main__':\n",
    "    process_with_name = multiprocessing.Process (name='foo_process',target=foo)\n",
    "    process_with_name.daemon = True\n",
    "    process_with_default_name = multiprocessing.Process(target=foo)\n",
    "    process_with_name.start()\n",
    "    process_with_default_name.start()"
   ]
  },
  {
   "cell_type": "markdown",
   "metadata": {},
   "source": [
    "## How to run a process in the background"
   ]
  },
  {
   "cell_type": "code",
   "execution_count": 3,
   "metadata": {},
   "outputs": [
    {
     "name": "stdout",
     "output_type": "stream",
     "text": [
      "Starting background_process \n",
      "\n",
      "Starting NO_background_process \n",
      "\n",
      "Exiting background_process \n",
      "Exiting NO_background_process \n",
      "\n",
      "\n"
     ]
    }
   ],
   "source": [
    "import multiprocessing\n",
    "import time\n",
    "def foo():\n",
    "    name = multiprocessing.current_process().name\n",
    "    print (\"Starting %s \\n\" %name)\n",
    "    time.sleep(3)\n",
    "    print (\"Exiting %s \\n\" %name)\n",
    "if __name__ == '__main__':\n",
    "    background_process = multiprocessing.Process(name='background_process',target=foo)\n",
    "    background_process.daemon = True\n",
    "    NO_background_process = multiprocessing.Process(name='NO_background_process',target=foo)\n",
    "    NO_background_process.daemon = False\n",
    "    background_process.start()\n",
    "    NO_background_process.start()"
   ]
  },
  {
   "cell_type": "markdown",
   "metadata": {},
   "source": [
    "## How to kill a process"
   ]
  },
  {
   "cell_type": "code",
   "execution_count": 4,
   "metadata": {},
   "outputs": [
    {
     "name": "stdout",
     "output_type": "stream",
     "text": [
      "Process before execution: <Process(Process-10, initial)> False\n",
      "Process running: <Process(Process-10, started)> True\n",
      "Process terminated: <Process(Process-10, started)> True\n",
      "Process joined: <Process(Process-10, stopped[SIGTERM])> False\n",
      "Process exit code: -15\n"
     ]
    }
   ],
   "source": [
    "import multiprocessing\n",
    "import time\n",
    "def foo():\n",
    "    print ('Starting function')\n",
    "    time.sleep(0.1)\n",
    "    print ('Finished function')\n",
    "    \n",
    "if __name__ == '__main__':\n",
    "    p = multiprocessing.Process(target=foo)\n",
    "    print ('Process before execution:', p, p.is_alive())\n",
    "    p.start()\n",
    "    print ('Process running:', p, p.is_alive())\n",
    "    p.terminate()\n",
    "    print ('Process terminated:', p, p.is_alive())\n",
    "    p.join()\n",
    "    print ('Process joined:', p, p.is_alive())\n",
    "    print ('Process exit code:', p.exitcode)"
   ]
  },
  {
   "cell_type": "markdown",
   "metadata": {},
   "source": [
    "## How to use a process in a subclass"
   ]
  },
  {
   "cell_type": "code",
   "execution_count": 6,
   "metadata": {},
   "outputs": [
    {
     "name": "stdout",
     "output_type": "stream",
     "text": [
      "called run method in process: MyProcess-11\n",
      "called run method in process: MyProcess-12\n",
      "called run method in process: MyProcess-13\n",
      "called run method in process: MyProcess-14\n",
      "called run method in process: MyProcess-15\n"
     ]
    }
   ],
   "source": [
    "import multiprocessing\n",
    "class MyProcess(multiprocessing.Process):\n",
    "    def run(self):\n",
    "        print ('called run method in process: %s' %self.name)\n",
    "        return\n",
    "if __name__ == '__main__':\n",
    "    jobs = []\n",
    "    for i in range(5):\n",
    "        p = MyProcess ()\n",
    "        jobs.append(p)\n",
    "        p.start()\n",
    "        p.join()"
   ]
  },
  {
   "cell_type": "markdown",
   "metadata": {},
   "source": [
    "## **How to exchange objects between processes**"
   ]
  },
  {
   "cell_type": "code",
   "execution_count": 9,
   "metadata": {},
   "outputs": [
    {
     "name": "stdout",
     "output_type": "stream",
     "text": [
      "Process Producer : item 222 appended to queue producer-18\n",
      "The size of queue is 1\n",
      "Process Producer : item 219 appended to queue producer-18\n",
      "Process Consumer : item 222 popped from by consumer-19 \n",
      "\n",
      "The size of queue is 1\n",
      "Process Consumer : item 219 popped from by consumer-19 \n",
      "\n",
      "the queue is empty\n"
     ]
    }
   ],
   "source": [
    "import multiprocessing\n",
    "import random\n",
    "import time\n",
    "class producer(multiprocessing.Process):\n",
    "    def __init__(self, queue):\n",
    "        multiprocessing.Process.__init__(self)\n",
    "        self.queue = queue\n",
    "    def run(self) :\n",
    "        for i in range(2):\n",
    "            item = random.randint(0, 256)\n",
    "            self.queue.put(item)\n",
    "            print (\"Process Producer : item %d appended to queue %s\" % (item,self.name))\n",
    "            time.sleep(1)\n",
    "            print (\"The size of queue is %s\" % self.queue.qsize())\n",
    "            \n",
    "\n",
    "class consumer(multiprocessing.Process):\n",
    "    def __init__(self, queue):\n",
    "        multiprocessing.Process.__init__(self)\n",
    "        self.queue = queue\n",
    "    def run(self):\n",
    "        while True:\n",
    "            if (self.queue.empty()):\n",
    "                print(\"the queue is empty\")\n",
    "                break\n",
    "            else :\n",
    "                time.sleep(2)\n",
    "                item = self.queue.get()\n",
    "                print ('Process Consumer : item %d popped from by %s \\n' % (item, self.name))\n",
    "                time.sleep(1)\n",
    "\n",
    "queue = multiprocessing.Queue()\n",
    "process_producer = producer(queue)\n",
    "process_consumer = consumer(queue)\n",
    "process_producer.start()\n",
    "process_consumer.start()\n",
    "process_producer.join()\n",
    "process_consumer.join()"
   ]
  },
  {
   "cell_type": "markdown",
   "metadata": {},
   "source": [
    "### Using pipes to exchange objects"
   ]
  },
  {
   "cell_type": "code",
   "execution_count": 7,
   "metadata": {},
   "outputs": [
    {
     "name": "stdout",
     "output_type": "stream",
     "text": [
      "0\n",
      "1\n",
      "4\n",
      "9\n",
      "16\n",
      "25\n",
      "36\n",
      "49\n",
      "64\n",
      "81\n",
      "End\n"
     ]
    }
   ],
   "source": [
    "import multiprocessing\n",
    "def create_items(pipe):\n",
    "    output_pipe, _ = pipe\n",
    "    for item in range(10):\n",
    "        output_pipe.send(item)\n",
    "    output_pipe.close()\n",
    "def multiply_items(pipe_1, pipe_2):\n",
    "    close, input_pipe = pipe_1\n",
    "    close.close()\n",
    "    output_pipe, _ = pipe_2\n",
    "    try:\n",
    "        while True:\n",
    "            item = input_pipe.recv()\n",
    "            output_pipe.send(item * item)\n",
    "    except EOFError:\n",
    "        output_pipe.close()\n",
    "        \n",
    "#First process pipe with numbers from 0 to 9\n",
    "pipe_1 = multiprocessing.Pipe(True)\n",
    "process_pipe_1 = multiprocessing.Process(target=create_items, args=(pipe_1,))\n",
    "process_pipe_1.start()\n",
    "#second pipe,\n",
    "pipe_2 = multiprocessing.Pipe(True)\n",
    "process_pipe_2 = multiprocessing.Process(target=multiply_items, args=(pipe_1, pipe_2,))\n",
    "process_pipe_2.start()\n",
    "pipe_1[0].close()\n",
    "pipe_2[0].close()\n",
    "try:\n",
    "    while True:\n",
    "        print (pipe_2[1].recv())\n",
    "except EOFError:\n",
    "    print(\"End\")"
   ]
  },
  {
   "cell_type": "markdown",
   "metadata": {},
   "source": [
    "## How to synchronize processes\n",
    "\n",
    "多个进程可以协同工作来执行给定的任务。 通常，他们共享数据。 重要的是，各种过程对共享数据的访问不会产生不一致的数据。 因此，通过共享数据进行协作的流程必须以有序的方式进行操作才能访问该数据。 同步原语与库和线程遇到的原语非常相似。\n",
    "* Lock: This object can be in one of the states: locked and unlocked. A lock object has two methods, acquire() and release() , to manage the access to a shared resource.\n",
    "* Event: This realizes simple communication between processes, one process signals an event and the other processes wait for it. An Event object has two methods, set() and clear() , to manage its own internal flag.\n",
    "* Condition: This object is used to synchronize parts of a workflow, in sequential or parallel processes. It has two basic methods, wait() is used to wait for a condition and notify_all() is used to communicate the condition that was applied.\n",
    "* Semaphore: This is used to share a common resource, for example, to support a fixed number of simultaneous connections.\n",
    "* RLock: This defines the recursive lock object. The methods and functionality for RLock are the same as the Threading module.\n",
    "* Barrier: This divides a program into phases as it requires all of the processes to reach it before any of them proceeds. Code that is executed after a barrier cannot be concurrent with the code executed before the barrier.\n",
    "\n",
    "![](./figs/processing_barrir.png)"
   ]
  },
  {
   "cell_type": "code",
   "execution_count": 9,
   "metadata": {},
   "outputs": [
    {
     "name": "stdout",
     "output_type": "stream",
     "text": [
      "process p2 - test_with_barrier ----> 2020-03-16 12:09:20.598760\n",
      "process p1 - test_with_barrier ----> 2020-03-16 12:09:20.598805\n",
      "process p3 - test_without_barrier ----> 2020-03-16 12:09:20.603410\n",
      "process p4 - test_without_barrier ----> 2020-03-16 12:09:20.609739\n"
     ]
    }
   ],
   "source": [
    "import multiprocessing\n",
    "from multiprocessing import Barrier, Lock, Process\n",
    "from time import time\n",
    "from datetime import datetime\n",
    "\n",
    "def test_with_barrier(synchronizer, serializer):\n",
    "    name = multiprocessing.current_process().name\n",
    "    synchronizer.wait()\n",
    "    now = time()\n",
    "    with serializer:\n",
    "        print(\"process %s ----> %s\" %(name,datetime.fromtimestamp(now)))\n",
    "def test_without_barrier():\n",
    "    name = multiprocessing.current_process().name\n",
    "    now = time()\n",
    "    print(\"process %s ----> %s\" %(name ,datetime.fromtimestamp(now)))\n",
    "\n",
    "\n",
    "synchronizer = Barrier(2)\n",
    "serializer = Lock()\n",
    "Process(name='p1 - test_with_barrier', target=test_with_barrier, args=(synchronizer,serializer)).start()\n",
    "Process(name='p2 - test_with_barrier', target=test_with_barrier, args=(synchronizer,serializer)).start()\n",
    "Process(name='p3 - test_without_barrier', target=test_without_barrier).start()\n",
    "Process(name='p4 - test_without_barrier', target=test_without_barrier).start()"
   ]
  },
  {
   "cell_type": "markdown",
   "metadata": {},
   "source": [
    "## How to manage a state between processes"
   ]
  },
  {
   "cell_type": "code",
   "execution_count": 11,
   "metadata": {},
   "outputs": [
    {
     "name": "stdout",
     "output_type": "stream",
     "text": [
      "Results: {0: 0, 1: 2, 2: 4, 3: 6, 4: 8, 6: 12, 5: 10, 7: 14, 8: 16, 9: 18}\n"
     ]
    }
   ],
   "source": [
    "import multiprocessing\n",
    "def worker(dictionary, key, item):\n",
    "    dictionary[key] = item\n",
    "\n",
    "    \n",
    "mgr = multiprocessing.Manager()\n",
    "dictionary = mgr.dict()\n",
    "jobs = [ multiprocessing.Process(target=worker, args=(dictionary, i, i*2)) for i in range(10)]\n",
    "for j in jobs:\n",
    "    j.start()\n",
    "for j in jobs:\n",
    "    j.join()\n",
    "print ('Results:', dictionary)"
   ]
  },
  {
   "cell_type": "markdown",
   "metadata": {},
   "source": [
    "## How to use a process pool"
   ]
  },
  {
   "cell_type": "code",
   "execution_count": 12,
   "metadata": {},
   "outputs": [
    {
     "name": "stdout",
     "output_type": "stream",
     "text": [
      "Pool: [0, 1, 4, 9, 16, 25, 36, 49, 64, 81, 100, 121, 144, 169, 196, 225, 256, 289, 324, 361, 400, 441, 484, 529, 576, 625, 676, 729, 784, 841, 900, 961, 1024, 1089, 1156, 1225, 1296, 1369, 1444, 1521, 1600, 1681, 1764, 1849, 1936, 2025, 2116, 2209, 2304, 2401, 2500, 2601, 2704, 2809, 2916, 3025, 3136, 3249, 3364, 3481, 3600, 3721, 3844, 3969, 4096, 4225, 4356, 4489, 4624, 4761, 4900, 5041, 5184, 5329, 5476, 5625, 5776, 5929, 6084, 6241, 6400, 6561, 6724, 6889, 7056, 7225, 7396, 7569, 7744, 7921, 8100, 8281, 8464, 8649, 8836, 9025, 9216, 9409, 9604, 9801]\n"
     ]
    }
   ],
   "source": [
    "import multiprocessing\n",
    "def function_square(data):\n",
    "    result = data*data\n",
    "    return result\n",
    "\n",
    "\n",
    "inputs = list(range(100))\n",
    "pool = multiprocessing.Pool(processes=4)\n",
    "pool_outputs = pool.map(function_square, inputs)\n",
    "pool.close()\n",
    "pool.join()\n",
    "print ('Pool:', pool_outputs)"
   ]
  },
  {
   "cell_type": "markdown",
   "metadata": {},
   "source": [
    "## Using the mpi4py Python module\n",
    "安装mpi4py:\n",
    "```\n",
    "pip install mpi4py\n",
    "```\n",
    "\n",
    "* Point-to-point communication 点对点通信\n",
    "* Collective communication 收集通信\n",
    "* Topologies 拓扑\n",
    "\n",
    "    在文件目录 my_mpi4py下运行程序:\n",
    "```\n",
    "mpiexec -n 5 python helloWorld_MPI.py\n",
    "```"
   ]
  },
  {
   "cell_type": "markdown",
   "metadata": {},
   "source": [
    "### Point-to-point communication"
   ]
  },
  {
   "cell_type": "markdown",
   "metadata": {},
   "source": [
    "###  Avoiding deadlock problems"
   ]
  },
  {
   "cell_type": "markdown",
   "metadata": {},
   "source": [
    "### Collective communication using broadcast"
   ]
  }
 ],
 "metadata": {
  "kernelspec": {
   "display_name": "Python 3",
   "language": "python",
   "name": "python3"
  },
  "language_info": {
   "codemirror_mode": {
    "name": "ipython",
    "version": 3
   },
   "file_extension": ".py",
   "mimetype": "text/x-python",
   "name": "python",
   "nbconvert_exporter": "python",
   "pygments_lexer": "ipython3",
   "version": "3.7.3"
  },
  "toc-autonumbering": true
 },
 "nbformat": 4,
 "nbformat_minor": 4
}
