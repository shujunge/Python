{
 "cells": [
  {
   "cell_type": "code",
   "execution_count": null,
   "metadata": {
    "collapsed": true
   },
   "outputs": [],
   "source": [
    "##将视频转化为图片\n",
    "ffmpeg -i  videoname.mp4 -r 1 -f image2 ./images/%05d.png\n",
    "\n",
    "##将图片转化为s视频\n",
    "ffmpeg -f image2 -i ./images/%05d.png test.mp4\n",
    "\n",
    "##截取视频长度\n",
    "ffmpeg  -i input.mp4 -vcodec copy -acodec copy -ss 00:00:10 -to 00:00:15 output.mp4\n",
    "                \n",
    "##提起视频中的音频\n",
    "ffmpeg -i input.mp4 -ss 00:00:10 -to 00:00:15 output.mp3\n",
    "\n",
    "##将音频合如视频中\n"
   ]
  }
 ],
 "metadata": {
  "kernelspec": {
   "display_name": "Python 2",
   "language": "python",
   "name": "python2"
  },
  "language_info": {
   "codemirror_mode": {
    "name": "ipython",
    "version": 2
   },
   "file_extension": ".py",
   "mimetype": "text/x-python",
   "name": "python",
   "nbconvert_exporter": "python",
   "pygments_lexer": "ipython2",
   "version": "2.7.14"
  }
 },
 "nbformat": 4,
 "nbformat_minor": 2
}
