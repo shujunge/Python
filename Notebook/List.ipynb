{
 "cells": [
  {
   "cell_type": "code",
   "execution_count": 8,
   "metadata": {},
   "outputs": [
    {
     "name": "stdout",
     "output_type": "stream",
     "text": [
      "[22, 8, 5, 4, 3, 1]\n"
     ]
    }
   ],
   "source": [
    "##一维列表排序\n",
    "ll=[1,22,3,4,5,8]\n",
    "ll.sort(reverse=True) ##默认从小到大\n",
    "print ll\n",
    "\n"
   ]
  },
  {
   "cell_type": "code",
   "execution_count": 7,
   "metadata": {},
   "outputs": [
    {
     "name": "stdout",
     "output_type": "stream",
     "text": [
      "[[2, 5, 8], [5, 1, 4], [1, 2, 3]]\n"
     ]
    }
   ],
   "source": [
    "##2维列表排序\n",
    "ll=[[1,2,3],[2,5,8],[5,1,4]]\n",
    "from operator import itemgetter, attrgetter\n",
    "ll=sorted(ll, key=itemgetter(2),reverse=True)\n",
    "print ll"
   ]
  },
  {
   "cell_type": "code",
   "execution_count": 2,
   "metadata": {},
   "outputs": [
    {
     "name": "stdout",
     "output_type": "stream",
     "text": [
      "Counter({1: 5, 2: 4, 3: 4, 4: 4, 56: 2, 54: 1})\n"
     ]
    }
   ],
   "source": [
    "##计算一维列表重复的元素\n",
    "ll=[1,2,3,4,2,3,4,1,1,1,56,3,4,54,3,2,1,2,4,56]\n",
    "# ll=[[1,2,3,45],[1,2,3,45],[1,2,5],[7,8,9]]\n",
    "from collections import Counter\n",
    "result=Counter(ll)\n",
    "print result\n"
   ]
  },
  {
   "cell_type": "code",
   "execution_count": 6,
   "metadata": {},
   "outputs": [
    {
     "name": "stdout",
     "output_type": "stream",
     "text": [
      "[1, 2, 3, 4, 54, 56]\n",
      "[2, 3, 4, 1, 56, 54]\n"
     ]
    }
   ],
   "source": [
    "##清除一维list重复的元素\n",
    "\n",
    "ll=[1,2,3,4,2,3,4,1,1,1,56,3,4,54,3,2,1,2,4,56]\n",
    "l2 = list(set(ll))##清除list重复的元素\n",
    "ll.remove(1)##清除list指定的元素\n",
    "\n",
    "print l2\n",
    "\n",
    "l2.sort(key=ll.index)##清除list重复的元素并且保存顺序不变\n",
    "print l2\n"
   ]
  },
  {
   "cell_type": "code",
   "execution_count": 1,
   "metadata": {},
   "outputs": [
    {
     "name": "stdout",
     "output_type": "stream",
     "text": [
      "[(7, 8, 9), (1, 2, 3, 45), (1, 2, 5), (1, 2, 3)]\n"
     ]
    }
   ],
   "source": [
    "##计算二维列表重复的元素\n",
    "ll=[[1,2,3],[1,2,3,45],[1,2,5],[7,8,9]]\n",
    "l2=list(set([tuple(t) for t in ll]))##将二维list转为一维list+tuple\n",
    "print l2"
   ]
  },
  {
   "cell_type": "code",
   "execution_count": 27,
   "metadata": {},
   "outputs": [
    {
     "name": "stdout",
     "output_type": "stream",
     "text": [
      "[[1, 2, 3], [1, 2, 3, 45], [1, 2], [1, 2, 3, 7, 8, 9, 45, 56]]\n",
      "******************\n",
      "[[1, 2, 3]]\n",
      "******************\n",
      "('list2:', [1, 2, 3])\n",
      "('list2:', [1, 2, 3, 45])\n",
      "******************\n",
      "[[1, 2, 3]]\n",
      "******************\n",
      "******************\n",
      "[[1, 2, 3], [1, 2]]\n",
      "******************\n",
      "('list2:', [1, 2, 3])\n",
      "('list2:', [1, 2, 3, 7, 8, 9, 45, 56])\n",
      "('list2:', [1, 2])\n",
      "('list2:', [1, 2, 3, 7, 8, 9, 45, 56])\n",
      "******************\n",
      "[[1, 2, 3], [1, 2]]\n",
      "******************\n"
     ]
    }
   ],
   "source": [
    "##计算二维列表中包含关系，并合并\n",
    "ll=[[1,2,3],[1,2,3,45],[1,2],[7,8,9,2,3,45,1,56]]\n",
    "for list_one in ll:\n",
    "    list_one.sort()\n",
    "print ll\n",
    "def belong(list1,list2):\n",
    "    temp=[z for z in list1 if z in list2]\n",
    "    if len(temp)==len(list2):\n",
    "        print(\"list2:\",list2)\n",
    "        list2=list1\n",
    "        print(\"list2:\",list2)\n",
    "        return 1\n",
    "    return 0\n",
    "\n",
    "sortll=[]\n",
    "for listone in ll:\n",
    "    if len(sortll)>0:\n",
    "        for list_two in range(len(sortll)):\n",
    "            if belong(listone,sortll[list_two])==0:\n",
    "                sortll.append(listone)\n",
    "    else:\n",
    "        sortll.append(listone)\n",
    "    print\"******************\"\n",
    "    print sortll\n",
    "    print\"******************\"\n",
    "\n",
    "\n",
    "# l2=list(set([tuple(t) for t in ll]))##将二维list转为一维list+tuple\n",
    "# print l2"
   ]
  },
  {
   "cell_type": "code",
   "execution_count": 23,
   "metadata": {},
   "outputs": [
    {
     "name": "stdout",
     "output_type": "stream",
     "text": [
      "1234\n",
      "['1', '2', '3', '4']\n",
      "('1', '2', '3', '4')\n",
      "['1', '2', '3', '4']\n",
      "[ 1  2  3  4  5 67  8]\n",
      "[1, 2, 3, 4, 5, 67, 8]\n"
     ]
    }
   ],
   "source": [
    "##list 运算\n",
    "ll=['1','2','3','4']\n",
    "\n",
    "#list->string\n",
    "ss=''.join(ll)##转字符串\n",
    "print ss\n",
    "##string->list\n",
    "print list(ss) \n",
    "\n",
    "###list->tuple\n",
    "print tuple(ll)\n",
    "##tuple->list\n",
    "print list(tuple(ll))\n",
    "\n",
    "### list->array\n",
    "ll=[1,2,3,4,5,67,8]\n",
    "import numpy as np\n",
    "ss=np.array(ll)\n",
    "print ss\n",
    "##array->list\n",
    "kk=ss.tolist()\n",
    "print kk\n",
    "\n",
    "\n"
   ]
  },
  {
   "cell_type": "code",
   "execution_count": null,
   "metadata": {
    "collapsed": true
   },
   "outputs": [],
   "source": []
  }
 ],
 "metadata": {
  "kernelspec": {
   "display_name": "Python 2",
   "language": "python",
   "name": "python2"
  },
  "language_info": {
   "codemirror_mode": {
    "name": "ipython",
    "version": 2
   },
   "file_extension": ".py",
   "mimetype": "text/x-python",
   "name": "python",
   "nbconvert_exporter": "python",
   "pygments_lexer": "ipython2",
   "version": "2.7.14"
  }
 },
 "nbformat": 4,
 "nbformat_minor": 2
}
