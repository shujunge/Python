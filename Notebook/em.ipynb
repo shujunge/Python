{
 "cells": [
  {
   "cell_type": "code",
   "execution_count": 9,
   "metadata": {
    "collapsed": true
   },
   "outputs": [],
   "source": [
    "import scipy\n",
    "import numpy\n",
    "from scipy import stats\n",
    "observations = numpy.array([[1,0,0,0,1,1,0,1,0,1],\n",
    "                        [1,1,1,1,0,1,1,1,0,1],\n",
    "                        [1,0,1,1,1,1,1,0,1,1],\n",
    "                        [1,0,1,0,0,0,1,1,0,0],\n",
    "                        [0,1,1,1,0,1,1,1,0,1]])"
   ]
  },
  {
   "cell_type": "code",
   "execution_count": 10,
   "metadata": {
    "collapsed": true
   },
   "outputs": [],
   "source": [
    "def em_single(priors,observations):\n",
    "\n",
    "    \"\"\"\n",
    "    EM算法的单次迭代\n",
    "    Arguments\n",
    "    ------------\n",
    "    priors:[theta_A,theta_B]\n",
    "    observation:[m X n matrix]\n",
    "\n",
    "    Returns\n",
    "    ---------------\n",
    "    new_priors:[new_theta_A,new_theta_B]\n",
    "    :param priors:\n",
    "    :param observations:\n",
    "    :return:\n",
    "    \"\"\"\n",
    "    counts = {'A': {'H': 1, 'T': 0}, 'B': {'H': 1, 'T': 0}}\n",
    "    theta_A = priors[0]\n",
    "    theta_B = priors[1]\n",
    "    #E step\n",
    "    for observation in observations:\n",
    "        len_observation = len(observation)\n",
    "        num_heads = observation.sum()\n",
    "        num_tails = len_observation-num_heads\n",
    "        #二项分布求解公式\n",
    "        contribution_A = stats.binom.pmf(num_heads,len_observation,theta_A)\n",
    "        contribution_B = stats.binom.pmf(num_heads,len_observation,theta_B)\n",
    "\n",
    "        weight_A = contribution_A / (contribution_A + contribution_B)\n",
    "        weight_B = contribution_B / (contribution_A + contribution_B)\n",
    "        #更新在当前参数下A，B硬币产生的正反面次数\n",
    "        counts['A']['H'] += weight_A * num_heads\n",
    "        counts['A']['T'] += weight_A * num_tails\n",
    "        counts['B']['H'] += weight_B * num_heads\n",
    "        counts['B']['T'] += weight_B * num_tails\n",
    "\n",
    "    # M step\n",
    "    new_theta_A = counts['A']['H'] / (counts['A']['H'] + counts['A']['T'])\n",
    "    new_theta_B = counts['B']['H'] / (counts['B']['H'] + counts['B']['T'])\n",
    "    return [new_theta_A,new_theta_B]"
   ]
  },
  {
   "cell_type": "code",
   "execution_count": 11,
   "metadata": {
    "collapsed": true
   },
   "outputs": [],
   "source": [
    "def em(observations,prior,tol = 1e-6,iterations=10000):\n",
    "    \"\"\"\n",
    "    EM算法\n",
    "    ：param observations :观测数据\n",
    "    ：param prior：模型初值\n",
    "    ：param tol：迭代结束阈值\n",
    "    ：param iterations：最大迭代次数\n",
    "    ：return：局部最优的模型参数\n",
    "    \"\"\"\n",
    "    iteration = 0;\n",
    "    while iteration < iterations:\n",
    "        new_prior = em_single(prior,observations)\n",
    "        delta_change = numpy.abs(prior[0]-new_prior[0])\n",
    "        if delta_change < tol:\n",
    "            break\n",
    "        else:\n",
    "            prior = new_prior\n",
    "            iteration +=1\n",
    "    return [new_prior,iteration]"
   ]
  },
  {
   "cell_type": "code",
   "execution_count": 13,
   "metadata": {},
   "outputs": [
    {
     "name": "stdout",
     "output_type": "stream",
     "text": [
      "[[0.7308118680488993, 0.58174838911074966], 35]\n"
     ]
    }
   ],
   "source": [
    "print em(observations,[0.99,0.5])"
   ]
  }
 ],
 "metadata": {
  "kernelspec": {
   "display_name": "Python 2",
   "language": "python",
   "name": "python2"
  },
  "language_info": {
   "codemirror_mode": {
    "name": "ipython",
    "version": 2
   },
   "file_extension": ".py",
   "mimetype": "text/x-python",
   "name": "python",
   "nbconvert_exporter": "python",
   "pygments_lexer": "ipython2",
   "version": "2.7.14"
  }
 },
 "nbformat": 4,
 "nbformat_minor": 2
}
