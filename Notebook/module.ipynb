{
 "cells": [
  {
   "cell_type": "code",
   "execution_count": 1,
   "metadata": {},
   "outputs": [
    {
     "name": "stderr",
     "output_type": "stream",
     "text": [
      "100% |########################################################################|\n"
     ]
    }
   ],
   "source": [
    "##ProgressBar\n",
    "from time import sleep\n",
    "from progressbar import ProgressBar\n",
    "\n",
    "bar = ProgressBar()\n",
    "for i in bar(range(50)):\n",
    "    sleep(0.5)"
   ]
  },
  {
   "cell_type": "code",
   "execution_count": 4,
   "metadata": {},
   "outputs": [
    {
     "name": "stdout",
     "output_type": "stream",
     "text": [
      "2271412e-e0ce-11e7-9c08-005a39ff5216\n",
      "2271412f-e0ce-11e7-9c08-005a39ff5216\n",
      "22714130-e0ce-11e7-9c08-005a39ff5216\n",
      "22714131-e0ce-11e7-9c08-005a39ff5216\n",
      "22714132-e0ce-11e7-9c08-005a39ff5216\n",
      "da9362cb-aa7d-4b74-8d6d-c6b83a53e208\n",
      "77ba31a7-492e-426a-9c92-b491d7d36efb\n",
      "b3b2fd96-9ab2-4f39-95f1-c3a362c108fb\n",
      "274d84d4-a93a-4050-9fc2-8537cb157e64\n",
      "e90a43bd-c0c1-4108-b5ea-67ddc50affa9\n"
     ]
    }
   ],
   "source": [
    "##uuid1\n",
    "from uuid import uuid1\n",
    "for i in range(5):\n",
    "    print(uuid1())\n",
    "\n",
    "from uuid import uuid4\n",
    "for i in range(5):\n",
    "    print(uuid4())"
   ]
  },
  {
   "cell_type": "code",
   "execution_count": 1,
   "metadata": {},
   "outputs": [
    {
     "name": "stdout",
     "output_type": "stream",
     "text": [
      "+------+-------+\n",
      "| food | price |\n",
      "+------+-------+\n",
      "| ham  |   $2  |\n",
      "| eggs |   $1  |\n",
      "| spam |   $4  |\n",
      "+------+-------+\n",
      "+------+-------+\n",
      "| food | price |\n",
      "+------+-------+\n",
      "| eggs |   $1  |\n",
      "| ham  |   $2  |\n",
      "| spam |   $4  |\n",
      "+------+-------+\n",
      "+------+-------+\n",
      "| food | price |\n",
      "+------+-------+\n",
      "| eggs |   1   |\n",
      "| ham  |   2   |\n",
      "| spam |   4   |\n",
      "+------+-------+\n"
     ]
    }
   ],
   "source": [
    "#######prettytable#########\n",
    "\n",
    "from prettytable import PrettyTable\n",
    "table = PrettyTable(['food','price'])\n",
    "table.add_row(['ham','$2'])\n",
    "table.add_row(['eggs','$1'])\n",
    "table.add_row(['spam','$4'])\n",
    "print(table)\n",
    "\n",
    "table.sortby = 'price'\n",
    "print(table)\n",
    "\n",
    "\n",
    "d = {'ham':2, 'eggs':1, 'spam':4}\n",
    "table = PrettyTable(['food', 'price'])\n",
    "for key, value in d.items():\n",
    "     table.add_row([key, value])\n",
    "print(table)"
   ]
  },
  {
   "cell_type": "code",
   "execution_count": 1,
   "metadata": {},
   "outputs": [
    {
     "name": "stderr",
     "output_type": "stream",
     "text": [
      "100% |########################################################################|\n"
     ]
    }
   ],
   "source": [
    "##progressbar\n",
    "from time import sleep\n",
    "from progressbar import ProgressBar\n",
    "\n",
    "bar = ProgressBar()\n",
    "for i in bar(range(50)):\n",
    "    sleep(0.5)"
   ]
  },
  {
   "cell_type": "code",
   "execution_count": 1,
   "metadata": {},
   "outputs": [
    {
     "name": "stderr",
     "output_type": "stream",
     "text": [
      "100%|██████████| 100/100 [00:50<00:00,  1.99it/s]\n"
     ]
    }
   ],
   "source": [
    "##tqdm\n",
    "from time import sleep\n",
    "from tqdm import tqdm\n",
    "for i in tqdm(range(100),ascii=False):\n",
    "    sleep(0.5)"
   ]
  },
  {
   "cell_type": "code",
   "execution_count": null,
   "metadata": {
    "collapsed": true
   },
   "outputs": [],
   "source": []
  }
 ],
 "metadata": {
  "kernelspec": {
   "display_name": "Python 2",
   "language": "python",
   "name": "python2"
  },
  "language_info": {
   "codemirror_mode": {
    "name": "ipython",
    "version": 2
   },
   "file_extension": ".py",
   "mimetype": "text/x-python",
   "name": "python",
   "nbconvert_exporter": "python",
   "pygments_lexer": "ipython2",
   "version": "2.7.14"
  }
 },
 "nbformat": 4,
 "nbformat_minor": 2
}
