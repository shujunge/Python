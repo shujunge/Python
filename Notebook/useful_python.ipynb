{
 "cells": [
  {
   "cell_type": "code",
   "execution_count": null,
   "metadata": {
    "collapsed": true
   },
   "outputs": [],
   "source": [
    "##命令行输入参数\n",
    "def matrix(b):\n",
    "    pass\n",
    "\n",
    "if __name__==\"__main__\":\n",
    "    import sys\n",
    "    matrix(int(sys.argv[1]))"
   ]
  },
  {
   "cell_type": "code",
   "execution_count": 1,
   "metadata": {},
   "outputs": [
    {
     "data": {
      "text/plain": [
       "'In : '"
      ]
     },
     "execution_count": 1,
     "metadata": {},
     "output_type": "execute_result"
    }
   ],
   "source": [
    "##改变形式\n",
    "import sys\n",
    "sys.ps1\n",
    "sys.ps2\n",
    "sys.ps1='>>'"
   ]
  },
  {
   "cell_type": "code",
   "execution_count": null,
   "metadata": {
    "collapsed": true
   },
   "outputs": [],
   "source": [
    "##Error and Exceptions\n",
    "try:\n",
    "    x=input(\"please enter a number:\")\n",
    "    break\n",
    "except ValueError:\n",
    "    print(\"that was no valid number! Try again\")"
   ]
  }
 ],
 "metadata": {
  "kernelspec": {
   "display_name": "Python 2",
   "language": "python",
   "name": "python2"
  },
  "language_info": {
   "codemirror_mode": {
    "name": "ipython",
    "version": 2
   },
   "file_extension": ".py",
   "mimetype": "text/x-python",
   "name": "python",
   "nbconvert_exporter": "python",
   "pygments_lexer": "ipython2",
   "version": "2.7.14"
  }
 },
 "nbformat": 4,
 "nbformat_minor": 2
}
