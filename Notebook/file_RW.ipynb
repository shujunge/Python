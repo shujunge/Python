{
 "cells": [
  {
   "cell_type": "code",
   "execution_count": 2,
   "metadata": {},
   "outputs": [
    {
     "name": "stdout",
     "output_type": "stream",
     "text": [
      "[['1', '2', '3', '4', '56', '7'], ['8', '4', '5']]\n"
     ]
    }
   ],
   "source": [
    "import csv\n",
    "##write file\n",
    "csvfile = open(\"LeNetresult.csv\", \"w\")\n",
    "writer = csv.writer(csvfile)\n",
    "writer.writerow([1,2,3,4,56,7])\n",
    "writer.writerow(['8','4','5'])\n",
    "csvfile.close()\n",
    "\n",
    "##read file\n",
    "filename = 'data.csv'\n",
    "with open(filename) as f:\n",
    "    reader = csv.reader(f)\n",
    "    ll=list(reader)\n",
    "print ll"
   ]
  },
  {
   "cell_type": "code",
   "execution_count": 5,
   "metadata": {},
   "outputs": [
    {
     "name": "stdout",
     "output_type": "stream",
     "text": [
      "<type 'dict'>\n",
      "<type 'numpy.ndarray'>\n"
     ]
    }
   ],
   "source": [
    "##read and write mat files\n",
    "import scipy.io as sio\n",
    "data={'A':'ZF','DATA':'2018-04-13'}\n",
    "sio.savemat(\"test.mat\",data) \n",
    "\n",
    "##read mat file\n",
    "data=sio.loadmat(\"test.mat\")\n",
    "print(type(data))\n",
    "# print data\n",
    "print type(data['A'])\n",
    "\n"
   ]
  },
  {
   "cell_type": "code",
   "execution_count": 11,
   "metadata": {},
   "outputs": [
    {
     "name": "stdout",
     "output_type": "stream",
     "text": [
      "[u'data', u'labels']\n"
     ]
    }
   ],
   "source": [
    "##read and write hdf5　file\n",
    "##推荐使用hdf5存储大文件,hdf5的压缩率是mat的10倍\n",
    "# https://shocksolution.com/2010/01/10/storing-large-numpy-arrays-on-disk-python-pickle-vs-hdf5adsf/\n",
    "# http://www.cnblogs.com/Ponys/p/3671458.html\n",
    "\"\"\"\n",
    ".pkl.gz 是mnist的官方后缀。看来是会很好用的样子。\n",
    "但是实际使用中，有两个难以避免的问题:\n",
    "1.速度慢，内存占用高（就是性能不好）\n",
    "2.大矩阵储存无能\n",
    "　　前者我就不说了。关于后者，这是python官bug，如果你在cPickle.dump()的时候碰上“ SystemError: error return without exception set”，那么恭喜你，中奖了。\n",
    "\"\"\"\n",
    "import h5py  #导入工具包  \n",
    "import numpy as np  \n",
    "#HDF5的写入：  \n",
    "imgData = np.zeros((30,3,128,256))  \n",
    "f = h5py.File('HDF5_FILE.hdf5','w')   #创建一个h5 or hdf5文件，文件指针是f  \n",
    "f['data'] = imgData                 #将数据写入文件的主键data下面  \n",
    "f['labels'] = range(100)            #将数据写入文件的主键labels下面  \n",
    "f.close()                           #关闭文件  \n",
    "  \n",
    "#HDF5的读取：  \n",
    "f = h5py.File('HDF5_FILE.hdf5','r')   #打开h5 or hdf5文件  \n",
    "print(f.keys())                            #可以查看所有的主键  \n",
    "a = f['data'][:]                   #取出主键为data的所有的键值  \n",
    "f.close()  "
   ]
  },
  {
   "cell_type": "code",
   "execution_count": 10,
   "metadata": {},
   "outputs": [
    {
     "name": "stdout",
     "output_type": "stream",
     "text": [
      "[1, 2, 3, 'adb', 'a']\n"
     ]
    }
   ],
   "source": [
    "##read and write pkl　file\n",
    "\n",
    "import cPickle as pickle\n",
    "temp = [1,2,3,'adb','a']\n",
    "with open('test.pkl','w') as f:\n",
    "    pickle.dump(temp, f, pickle.HIGHEST_PROTOCOL)\n",
    "\n",
    "inf = pickle.load(open('test.pkl'))\n",
    "print inf\n",
    "fr.close()\n",
    "   "
   ]
  }
 ],
 "metadata": {
  "kernelspec": {
   "display_name": "Python 2",
   "language": "python",
   "name": "python2"
  },
  "language_info": {
   "codemirror_mode": {
    "name": "ipython",
    "version": 2
   },
   "file_extension": ".py",
   "mimetype": "text/x-python",
   "name": "python",
   "nbconvert_exporter": "python",
   "pygments_lexer": "ipython2",
   "version": "2.7.14"
  }
 },
 "nbformat": 4,
 "nbformat_minor": 2
}
