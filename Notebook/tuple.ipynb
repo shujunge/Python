{
 "cells": [
  {
   "cell_type": "code",
   "execution_count": 4,
   "metadata": {},
   "outputs": [
    {
     "name": "stdout",
     "output_type": "stream",
     "text": [
      "('a', 'b', ['X', 'B'])\n",
      "3\n",
      "('a', 'b', ['A', 'B'], 23, 4, 5, 6)\n"
     ]
    }
   ],
   "source": [
    "##tuple 运算\n",
    "t= ('a', 'b', ['A', 'B'])\n",
    "t[2][0] = 'X'\n",
    "print t\n",
    "\n",
    "t=(1,1,1,2,3,4,5,6,87,9)\n",
    "print t.count(1)"
   ]
  },
  {
   "cell_type": "code",
   "execution_count": null,
   "metadata": {
    "collapsed": true
   },
   "outputs": [],
   "source": [
    "## tuple 添加元素\n",
    "t= ('a', 'b', ['A', 'B'])\n",
    "t1=(23,4,5,6)\n",
    "t1=t+t1\n",
    "print t1"
   ]
  }
 ],
 "metadata": {
  "kernelspec": {
   "display_name": "Python 2",
   "language": "python",
   "name": "python2"
  },
  "language_info": {
   "codemirror_mode": {
    "name": "ipython",
    "version": 2
   },
   "file_extension": ".py",
   "mimetype": "text/x-python",
   "name": "python",
   "nbconvert_exporter": "python",
   "pygments_lexer": "ipython2",
   "version": "2.7.14"
  }
 },
 "nbformat": 4,
 "nbformat_minor": 2
}
