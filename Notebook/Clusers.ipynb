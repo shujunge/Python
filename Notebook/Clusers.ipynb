{
 "cells": [
  {
   "cell_type": "code",
   "execution_count": 1,
   "metadata": {},
   "outputs": [
    {
     "name": "stdout",
     "output_type": "stream",
     "text": [
      "Init: initializing centroids\n",
      "Init: initializing clusters\n",
      "Starting iterations...\n",
      "Run 1, iteration: 1/100, moves: 19, cost: 796.0\n",
      "Run 1, iteration: 2/100, moves: 1, cost: 796.0\n",
      "Init: initializing centroids\n",
      "Init: initializing clusters\n",
      "Starting iterations...\n",
      "Run 2, iteration: 1/100, moves: 26, cost: 799.0\n",
      "Run 2, iteration: 2/100, moves: 8, cost: 796.0\n",
      "Run 2, iteration: 3/100, moves: 3, cost: 796.0\n",
      "Init: initializing centroids\n",
      "Init: initializing clusters\n",
      "Starting iterations...\n",
      "Run 3, iteration: 1/100, moves: 25, cost: 797.0\n",
      "Run 3, iteration: 2/100, moves: 7, cost: 793.0\n",
      "Run 3, iteration: 3/100, moves: 0, cost: 793.0\n",
      "Init: initializing centroids\n",
      "Init: initializing clusters\n",
      "Starting iterations...\n",
      "Run 4, iteration: 1/100, moves: 17, cost: 797.0\n",
      "Run 4, iteration: 2/100, moves: 6, cost: 797.0\n",
      "Init: initializing centroids\n",
      "Init: initializing clusters\n",
      "Starting iterations...\n",
      "Run 5, iteration: 1/100, moves: 24, cost: 800.0\n",
      "Run 5, iteration: 2/100, moves: 6, cost: 795.0\n",
      "Run 5, iteration: 3/100, moves: 3, cost: 794.0\n",
      "Run 5, iteration: 4/100, moves: 0, cost: 794.0\n",
      "Best run was number 3\n",
      "[[ 1 13  0 19  7  0  7  3 13 10]\n",
      " [ 1 15 14 17  4 15 10 11 10  1]\n",
      " [18  8 19  0 15  7  2 17  1 15]\n",
      " [ 5  1  1 10 18 19 11 13  0 18]]\n"
     ]
    }
   ],
   "source": [
    "import numpy as np\n",
    "from kmodes.kmodes import KModes\n",
    "\n",
    "# random categorical data\n",
    "data = np.random.choice(20, (100, 10))\n",
    "\n",
    "km = KModes(n_clusters=4, init='Huang', n_init=5, verbose=1)\n",
    "\n",
    "clusters = km.fit_predict(data)\n",
    "\n",
    "# Print the cluster centroids\n",
    "print(km.cluster_centroids_)"
   ]
  },
  {
   "cell_type": "code",
   "execution_count": null,
   "metadata": {
    "collapsed": true
   },
   "outputs": [],
   "source": []
  }
 ],
 "metadata": {
  "kernelspec": {
   "display_name": "Python 2",
   "language": "python",
   "name": "python2"
  },
  "language_info": {
   "codemirror_mode": {
    "name": "ipython",
    "version": 2
   },
   "file_extension": ".py",
   "mimetype": "text/x-python",
   "name": "python",
   "nbconvert_exporter": "python",
   "pygments_lexer": "ipython2",
   "version": "2.7.14"
  }
 },
 "nbformat": 4,
 "nbformat_minor": 2
}
