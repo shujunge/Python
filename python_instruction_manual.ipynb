{
 "cells": [
  {
   "cell_type": "markdown",
   "metadata": {
    "toc-hr-collapsed": true
   },
   "source": [
    "# 初级教程"
   ]
  },
  {
   "cell_type": "markdown",
   "metadata": {
    "toc-hr-collapsed": true
   },
   "source": [
    "## 字符串操作"
   ]
  },
  {
   "cell_type": "code",
   "execution_count": 1,
   "metadata": {},
   "outputs": [
    {
     "name": "stdout",
     "output_type": "stream",
     "text": [
      " \"echo\" * 3= echoechoecho\n",
      " 'hello ' + 'world' =  hello world\n",
      "len(hello world) =  11\n"
     ]
    }
   ],
   "source": [
    "m_str = \"echo\" * 3\n",
    "print(' \"echo\" * 3=', m_str)\n",
    "s = 'hello ' + 'world'\n",
    "print(\" 'hello ' + 'world' = \", s)\n",
    "print(\"len(%s) = \" % s, len(s))"
   ]
  },
  {
   "cell_type": "markdown",
   "metadata": {},
   "source": [
    "### 分割"
   ]
  },
  {
   "cell_type": "code",
   "execution_count": 2,
   "metadata": {},
   "outputs": [],
   "source": [
    "line = \"1 2 3 4  5\"\n",
    "numbers = line.split() #numbers  is list\n",
    "\n",
    "line = \"1,2,3,4,5\"\n",
    "numbers = line.split(',') # numbers is list"
   ]
  },
  {
   "cell_type": "markdown",
   "metadata": {},
   "source": [
    "### 连接"
   ]
  },
  {
   "cell_type": "code",
   "execution_count": 3,
   "metadata": {},
   "outputs": [
    {
     "data": {
      "text/plain": [
       "'1,2,3,4,5'"
      ]
     },
     "execution_count": 3,
     "metadata": {},
     "output_type": "execute_result"
    }
   ],
   "source": [
    "s = ' '\n",
    "s.join(numbers) # '1 2 3 4 5'\n",
    "\n",
    "s = ','\n",
    "s.join(numbers)# '1 2 3 4 5'"
   ]
  },
  {
   "cell_type": "markdown",
   "metadata": {},
   "source": [
    "### 替换"
   ]
  },
  {
   "cell_type": "code",
   "execution_count": 4,
   "metadata": {},
   "outputs": [
    {
     "data": {
      "text/plain": [
       "'hello python'"
      ]
     },
     "execution_count": 4,
     "metadata": {},
     "output_type": "execute_result"
    }
   ],
   "source": [
    "s = \"hello world\"\n",
    "s.replace('world', 'python') # s is 'hello world'"
   ]
  },
  {
   "cell_type": "markdown",
   "metadata": {},
   "source": [
    "### 大小写转化"
   ]
  },
  {
   "cell_type": "code",
   "execution_count": 5,
   "metadata": {},
   "outputs": [
    {
     "data": {
      "text/plain": [
       "'hello world'"
      ]
     },
     "execution_count": 5,
     "metadata": {},
     "output_type": "execute_result"
    }
   ],
   "source": [
    "# 字符串转化为大写\n",
    "\"hello world\".upper()\n",
    "\n",
    "# 字符串转化为小写\n",
    "\"hello world\".lower()\n"
   ]
  },
  {
   "cell_type": "markdown",
   "metadata": {},
   "source": [
    "### 去除多余空格\n",
    "* s.strip()返回一个将s两端的多余空格除去的新字符串。\n",
    "* s.lstrip()返回一个将s开头的多余空格除去的新字符串。\n",
    "* s.rstrip()返回一个将s结尾的多余空格除去的新字符串。"
   ]
  },
  {
   "cell_type": "markdown",
   "metadata": {},
   "source": [
    "### 多行字符串\n"
   ]
  },
  {
   "cell_type": "code",
   "execution_count": 6,
   "metadata": {},
   "outputs": [
    {
     "name": "stdout",
     "output_type": "stream",
     "text": [
      "hello world.\n",
      "it is a nice day.\n"
     ]
    }
   ],
   "source": [
    "a = \"\"\"hello world.\n",
    "it is a nice day.\"\"\"\n",
    "print(a)"
   ]
  },
  {
   "cell_type": "markdown",
   "metadata": {},
   "source": [
    "### 使用 () 或者 \\ 来换行"
   ]
  },
  {
   "cell_type": "code",
   "execution_count": 7,
   "metadata": {},
   "outputs": [],
   "source": [
    "a = (\"hello, world. \"\n",
    "    \"it's a nice day. \"\n",
    "    \"my name is xxx\")\n",
    "\n",
    "a = \"hello, world. \" \\\n",
    "    \"it's a nice day. \" \\\n",
    "    \"my name is xxx\""
   ]
  },
  {
   "cell_type": "markdown",
   "metadata": {},
   "source": [
    "### 强制转换为字符串"
   ]
  },
  {
   "cell_type": "code",
   "execution_count": 8,
   "metadata": {},
   "outputs": [
    {
     "name": "stdout",
     "output_type": "stream",
     "text": [
      "3.3000000000000003\n",
      "3.3000000000000003\n"
     ]
    }
   ],
   "source": [
    "print(str(1.1 + 2.2))\n",
    "print(repr(1.1 + 2.2))"
   ]
  },
  {
   "cell_type": "markdown",
   "metadata": {},
   "source": [
    "### 整数与不同进制的字符串的转化"
   ]
  },
  {
   "cell_type": "code",
   "execution_count": 9,
   "metadata": {},
   "outputs": [
    {
     "name": "stdout",
     "output_type": "stream",
     "text": [
      "0xff\n",
      "0o377\n",
      "0b11111111\n",
      "0o377\n",
      "21845\n"
     ]
    }
   ],
   "source": [
    "# 转16进制\n",
    "print(hex(255))\n",
    "# 转8进制\n",
    "print(oct(255))\n",
    "# 转2进制\n",
    "print(bin(255))\n",
    "# 转8进制\n",
    "print(oct(255))\n",
    "# int('11111111',4) 4为进制\n",
    "print(int('11111111',4))"
   ]
  },
  {
   "cell_type": "markdown",
   "metadata": {},
   "source": [
    "### 格式化字符串"
   ]
  },
  {
   "cell_type": "code",
   "execution_count": 10,
   "metadata": {},
   "outputs": [
    {
     "name": "stdout",
     "output_type": "stream",
     "text": [
      "a b c\n",
      "c b a\n",
      "blue 10 1.5\n",
      "blue 10 1.5 foo\n",
      "foo                 5       6.28\n",
      "some numbers: 1.340000, 2\n"
     ]
    }
   ],
   "source": [
    "print('{} {} {}'.format('a', 'b', 'c'))\n",
    "\n",
    "print('{2} {1} {0}'.format('a', 'b', 'c'))\n",
    "\n",
    "print('{color} {n} {x}'.format(n=10, x=1.5, color='blue'))\n",
    "\n",
    "print('{color} {0} {x} {1}'.format(10, 'foo', x = 1.5, color='blue'))\n",
    "\n",
    "from math import pi\n",
    "print('{0:10} {1:10d} {2:10.2f}'.format('foo', 5, 2 * pi))\n",
    "\n",
    "s = \"some numbers:\"\n",
    "x = 1.34\n",
    "y = 2\n",
    "# 用百分号隔开，括号括起来\n",
    "print(\"%s %f, %d\" % (s, x, y))\n"
   ]
  },
  {
   "cell_type": "markdown",
   "metadata": {
    "toc-hr-collapsed": true
   },
   "source": [
    "## 函数"
   ]
  },
  {
   "cell_type": "markdown",
   "metadata": {},
   "source": [
    "### 接收不定参数\n",
    "\n",
    "* *args 表示参数数目不定，可以看成一个元组，把第一个参数后面的参数当作元组中的元素。\n",
    "* **kwargs 表示参数数目不定，相当于一个字典，关键词和值对应于键值对。"
   ]
  },
  {
   "cell_type": "code",
   "execution_count": 11,
   "metadata": {},
   "outputs": [
    {
     "name": "stdout",
     "output_type": "stream",
     "text": [
      "15\n"
     ]
    }
   ],
   "source": [
    "def add(x, *args):\n",
    "    total = x\n",
    "    for arg in args:\n",
    "        total += arg\n",
    "    return total\n",
    "print(add(1,2,3,4,5))"
   ]
  },
  {
   "cell_type": "code",
   "execution_count": 12,
   "metadata": {},
   "outputs": [
    {
     "name": "stdout",
     "output_type": "stream",
     "text": [
      "adding  y\n",
      "adding  z\n",
      "adding  w\n",
      "46\n"
     ]
    }
   ],
   "source": [
    "def add_one(x, **kwargs):\n",
    "    total = x\n",
    "    for arg, value in list(kwargs.items()):\n",
    "        print(\"adding \", arg)\n",
    "        total += value\n",
    "    return total\n",
    "print(add_one(10, y=11, z=12, w=13))"
   ]
  },
  {
   "cell_type": "markdown",
   "metadata": {},
   "source": [
    "### 返回多个值"
   ]
  },
  {
   "cell_type": "code",
   "execution_count": 13,
   "metadata": {},
   "outputs": [
    {
     "name": "stdout",
     "output_type": "stream",
     "text": [
      "5.0 0.9272952180016122\n",
      "(3.605551275463989, 0.982793723247329)\n"
     ]
    }
   ],
   "source": [
    "from math import atan2\n",
    "\n",
    "def to_polar(x, y):\n",
    "    r = (x**2 + y**2) ** 0.5\n",
    "    theta = atan2(y, x)\n",
    "    return r, theta\n",
    "r, theta = to_polar(3, 4)\n",
    "print(r, theta)\n",
    "\n",
    "w = {'x': 2, 'y': 3}\n",
    "print(to_polar(**w))"
   ]
  },
  {
   "cell_type": "markdown",
   "metadata": {},
   "source": [
    "### map 方法生成序列\n",
    "* map(aFun, aSeq)"
   ]
  },
  {
   "cell_type": "code",
   "execution_count": 14,
   "metadata": {},
   "outputs": [
    {
     "name": "stdout",
     "output_type": "stream",
     "text": [
      "[4, 9, 16]\n",
      "[12, 8, 7]\n"
     ]
    }
   ],
   "source": [
    "def sqr(x): \n",
    "    return x ** 2\n",
    "\n",
    "a = [2,3,4]\n",
    "print(list(map(sqr, a)))\n",
    "\n",
    "def add(x, y): \n",
    "    return x + y\n",
    "a = (2,3,4)\n",
    "b = [10,5,3]\n",
    "print(list(map(add,a,b)))"
   ]
  },
  {
   "cell_type": "markdown",
   "metadata": {
    "toc-hr-collapsed": true
   },
   "source": [
    "## 时间处理\n",
    "* time\n",
    "* datetime"
   ]
  },
  {
   "cell_type": "markdown",
   "metadata": {},
   "source": [
    "### 时间显示"
   ]
  },
  {
   "cell_type": "code",
   "execution_count": 15,
   "metadata": {},
   "outputs": [
    {
     "name": "stdout",
     "output_type": "stream",
     "text": [
      "2020-03-13\n",
      "到国庆节还有 202 days, 0:00:00\n",
      "到国庆节还有 202天\n",
      "Date: 2019-02-14 10:35:47\n",
      " 2019-02-14 10:35:47\n",
      "日期：2020年3月13日\n",
      "5:05:10.288118\n"
     ]
    }
   ],
   "source": [
    "from datetime import *\n",
    "td = date.today() \n",
    "print(td)\n",
    "fatherDay = date(td.year, 10, 1) #计算当前日期到国庆节还有几天？\n",
    "result = fatherDay - td\n",
    "print('到国庆节还有', result)\n",
    "print('到国庆节还有{:4d}天'.format(result.days))\n",
    "\n",
    "\n",
    "from datetime import datetime, date, time\n",
    "#datetime()构造函数 -- 参数：年、月、日时、分、秒\n",
    "print('Date:', datetime(2019, 2, 14, 10, 35, 47))\n",
    "print('', datetime.strptime('2019-2-14 10:35:47', '%Y-%m-%d %H:%M:%S'))\n",
    "now = datetime.now()\n",
    "print('日期：{}年{}月{}日'.format(now.year, now.month, now.day)) #获取年、月、日属性, 以元组对象返回\n",
    "\n",
    "d1 = datetime.today()\n",
    "d2 = datetime(2020, 3, 14)\n",
    "print(d2 - d1)"
   ]
  },
  {
   "cell_type": "markdown",
   "metadata": {},
   "source": [
    "### 字符串-> struct_time->时间戳"
   ]
  },
  {
   "cell_type": "code",
   "execution_count": 16,
   "metadata": {},
   "outputs": [
    {
     "name": "stdout",
     "output_type": "stream",
     "text": [
      "timeArray:  time.struct_time(tm_year=2019, tm_mon=5, tm_mday=10, tm_hour=23, tm_min=40, tm_sec=0, tm_wday=4, tm_yday=130, tm_isdst=-1)\n",
      "1557502800.0\n"
     ]
    }
   ],
   "source": [
    "import time\n",
    "a1 = \"2019-5-10 23:40:00\"\n",
    "timeArray = time.strptime(a1, \"%Y-%m-%d %H:%M:%S\") # \n",
    "print(\"timeArray: \", timeArray)\n",
    "print(time.mktime(timeArray)) #转换为时间戳"
   ]
  },
  {
   "cell_type": "markdown",
   "metadata": {},
   "source": [
    "### 时间戳->struct_time->字符串"
   ]
  },
  {
   "cell_type": "markdown",
   "metadata": {},
   "source": [
    "timeStamp = 1557502800.0\n",
    "\n",
    "time.localtime() #将当前时间转换为struct_time\n",
    "time.gmtime(timeStamp) #将时间转换为struct_time\n",
    "time.ctime(timeStamp) #将时间戳转换为时间字符串\n",
    "timeArray = time.localtime(timeStamp)\n",
    "print(\"timeArray: \", timeArray)\n",
    "time_strt = time.strftime(\"%Y-%m-%d %H:%M:%S\", timeArray)\n",
    "print(time_strt, type(time_strt))   # 2013--10--10 23:40:00\n",
    "\n",
    "# 也可以使用datetime库下的函数进行转换\n",
    "import datetime\n",
    "d= datetime.datetime.fromtimestamp(timeStamp)    #将timeStamp转换为struct_time\n",
    "print(d, type(d))"
   ]
  },
  {
   "cell_type": "markdown",
   "metadata": {},
   "source": [
    "### time.time() -> struct_time ->字符串"
   ]
  },
  {
   "cell_type": "code",
   "execution_count": 17,
   "metadata": {},
   "outputs": [
    {
     "name": "stdout",
     "output_type": "stream",
     "text": [
      "1584096890.0316205\n",
      "2020-03-13 18:54:50 <class 'str'>\n"
     ]
    }
   ],
   "source": [
    "import time \n",
    "times = time.time()\n",
    "print(times)\n",
    "def timeStamp(timeStamp):\n",
    "    timeArray = time.localtime(timeStamp)\n",
    "    otherStyleTime = time.strftime(\"%Y-%m-%d %H:%M:%S\", timeArray)\n",
    "    print (otherStyleTime,type(otherStyleTime))\n",
    "timeStamp(times)"
   ]
  },
  {
   "cell_type": "markdown",
   "metadata": {},
   "source": [
    "### python与matlab时间戳转化"
   ]
  },
  {
   "cell_type": "code",
   "execution_count": 18,
   "metadata": {},
   "outputs": [],
   "source": [
    "# x为matlab的时间戳，y为python下的对应时间戳\n",
    "y=(x-719529)*86400+3600*8"
   ]
  },
  {
   "cell_type": "markdown",
   "metadata": {
    "toc-hr-collapsed": true
   },
   "source": [
    "## 对象装饰器"
   ]
  },
  {
   "cell_type": "code",
   "execution_count": 19,
   "metadata": {},
   "outputs": [
    {
     "name": "stdout",
     "output_type": "stream",
     "text": [
      "Hi! Joson, 调用了Atonce()\n",
      "登录时间: 2020-Mar-13 18:54:50\n"
     ]
    }
   ],
   "source": [
    "import time, functools\n",
    "\n",
    "def Records(name): #修饰器    \n",
    "    def Person(some_func):\n",
    "        #@functools.wraps(some_func)\n",
    "        def inner(*args, **kw):\n",
    "            print('Hi! {}, 调用了{}()'.format(\n",
    "                name, some_func.__name__))\n",
    "            #print('Hi!', name)\n",
    "            return some_func(*args, **kw)            \n",
    "        return inner #返回函数\n",
    "    return Person\n",
    "\n",
    "@Records('Joson')#含有参数的装饰器\n",
    "def Atonce():\n",
    "    #将获取时间执行格式化操作\n",
    "    return time.strftime('%Y-%b-%d %H:%M:%S',\n",
    "        time.localtime())\n",
    "\n",
    "#调用函数\n",
    "print('登录时间:', Atonce())"
   ]
  },
  {
   "cell_type": "markdown",
   "metadata": {},
   "source": [
    "### 使用函数来装饰类"
   ]
  },
  {
   "cell_type": "code",
   "execution_count": 20,
   "metadata": {},
   "outputs": [
    {
     "name": "stdout",
     "output_type": "stream",
     "text": [
      "车款： Yaris\n",
      "你选择的颜色：炫魅红, 排气量 1600\n"
     ]
    }
   ],
   "source": [
    "#使用函数来装饰类\n",
    "def Car(status):#装饰器，以类来传入\n",
    "    class Motor:\n",
    "        def __init__(self, name):#初始化对象\n",
    "            self.title = name #车款\n",
    "            self.obj = status()#获取传入的实例化对象\n",
    "            print('车款：', self.title)\n",
    "\n",
    "        def tint(self, opt):#获取颜色\n",
    "            return self.obj.tint(opt)\n",
    "\n",
    "        def power(self, rmp):#获取排气量\n",
    "            return self.obj.power(rmp)\n",
    "    return Motor\n",
    "\n",
    "@Car #装饰器, Equip = Car(Equip)\n",
    "class Equip:\n",
    "    def tint(self, opt):        \n",
    "        if opt == 1:\n",
    "            hue = '炫魅红'               \n",
    "        elif opt == 2:\n",
    "            hue = '极光蓝'\n",
    "        elif opt == 3:\n",
    "            hue = '云河灰'\n",
    "        return hue\n",
    "\n",
    "    def power(self, rmp):\n",
    "        if rmp == 4:\n",
    "            return 1600\n",
    "        elif rmp == 5: \n",
    "            return 1800\n",
    "\n",
    "op1, op2 = 1, 4\n",
    "\n",
    "hybrid = Equip('Yaris')\n",
    "\n",
    "print('你选择的颜色：{}, 排气量 {}'.format(\n",
    "    hybrid.tint(op1), hybrid.power(op2)))"
   ]
  },
  {
   "cell_type": "code",
   "execution_count": 21,
   "metadata": {},
   "outputs": [
    {
     "name": "stdout",
     "output_type": "stream",
     "text": [
      "车款 SUV 座位数 7\n",
      "车款 altis 座位数 4\n",
      "排气量 1500 座位数 4\n",
      "排气量 2000 座位数 7\n",
      "排气量 1800 座位数 5\n",
      "有 3 个对象\n"
     ]
    }
   ],
   "source": [
    "#使用staticmethod方法\n",
    "\n",
    "class Motor:#定义类\n",
    "    @staticmethod #将equip()方法修饰为静态方法\n",
    "    def equip(name, seats):\n",
    "        print('车款', name, '座位数', seats)\n",
    "\n",
    "car = Motor()#创建对象\n",
    "Motor.equip('SUV', 7)#用类调用类方法\n",
    "car.equip('altis', 4)#用对象调用对象方法\n",
    "#使用 @classmethod, @staticmethod\n",
    "\n",
    "class Motor:\n",
    "    count = 0#类属性统计对象\n",
    "\n",
    "    def __init__(self):\n",
    "       Motor.count += 1#计算对象个数\n",
    "\n",
    "    @classmethod #类方法\n",
    "    def equip(cls, rmp, seats):#cls为类本身\n",
    "        print('排气量', rmp, '座位数', seats)\n",
    "\n",
    "    @staticmethod #静态方法\n",
    "    def display():\n",
    "        print('有', Motor.count, '个对象')\n",
    "\n",
    "car = Motor()#创建第1个对象\n",
    "car.equip(1500, 4)#用对象调用方法\n",
    "\n",
    "hybird = Motor()#第2个对象\n",
    "hybird.equip(2000, 7)\n",
    "\n",
    "juddy = Motor()#第3个对象\n",
    "Motor.equip(1800, 5)#用类调用方法\n",
    "\n",
    "Motor.display()#统计对象数"
   ]
  },
  {
   "cell_type": "markdown",
   "metadata": {
    "toc-hr-collapsed": true
   },
   "source": [
    "## 类"
   ]
  },
  {
   "cell_type": "code",
   "execution_count": 22,
   "metadata": {},
   "outputs": [
    {
     "name": "stdout",
     "output_type": "stream",
     "text": [
      "Father class\n",
      "多走路有益健康!\n",
      "饭后要多多散步\n"
     ]
    }
   ],
   "source": [
    "class Father: #基类\n",
    "    def walking(self):\n",
    "        print('多走路有益健康!')\n",
    "\n",
    "class Son(Father): #派生类\n",
    "    def walking(self): #子类覆盖父类的方法\n",
    "        print('饭后要多多散步')\n",
    "\n",
    "#创建父类实例\n",
    "Steven = Father()\n",
    "print('Father class')\n",
    "Steven.walking()\n",
    "\n",
    "#创建子类实例\n",
    "Joe = Son()\n",
    "Joe.walking()"
   ]
  },
  {
   "cell_type": "markdown",
   "metadata": {},
   "source": [
    "### super"
   ]
  },
  {
   "cell_type": "code",
   "execution_count": 23,
   "metadata": {},
   "outputs": [
    {
     "name": "stdout",
     "output_type": "stream",
     "text": [
      "I am parent\n",
      "Tomas is child\n",
      "Child 类, 继承一个基类\n",
      "<class '__main__.Parent'>\n"
     ]
    }
   ],
   "source": [
    "#__init__()方法调用super()\n",
    "\n",
    "class Parent(): #父类\n",
    "    def __init__(self):\n",
    "        print('I am parent')\n",
    "\n",
    "class Child(Parent): #子类\n",
    "    def __init__(self, name):\n",
    "        super().__init__()\n",
    "        print(name, 'is child')\n",
    "\n",
    "tom = Child('Tomas') #子类实例\n",
    "\n",
    "print(Child.__name__, '类, 继承一个基类')\n",
    "for item in Child.__bases__:\n",
    "    print(item)"
   ]
  },
  {
   "cell_type": "markdown",
   "metadata": {},
   "source": [
    "### 抽象类"
   ]
  },
  {
   "cell_type": "code",
   "execution_count": 24,
   "metadata": {},
   "outputs": [
    {
     "name": "stdout",
     "output_type": "stream",
     "text": [
      "Steven is a Clerk\n",
      "薪水： 28000\n"
     ]
    }
   ],
   "source": [
    "from abc import ABCMeta, abstractmethod\n",
    "\n",
    "class Person(metaclass = ABCMeta): #抽象类    \n",
    "    @abstractmethod #装饰器 - 抽象方法\n",
    "    def display(self, name):\n",
    "        pass\n",
    "    def pay(self):\n",
    "        self.display(self.name, self.salary)\n",
    "\n",
    "#实现Person类\n",
    "class Clerk(Person):\n",
    "\n",
    "    def __init__(self):\n",
    "        self.name = 'Steven'\n",
    "        self.salary = 28000\n",
    "\n",
    "    def display(self, name, salary):        \n",
    "        print(name, 'is a Clerk')\n",
    "        print('薪水：', salary)\n",
    "\n",
    "#创建对象，调用抽象类的一般方法pay()\n",
    "steven = Clerk()\n",
    "steven.pay()"
   ]
  },
  {
   "cell_type": "markdown",
   "metadata": {},
   "source": [
    "### 多态类"
   ]
  },
  {
   "cell_type": "code",
   "execution_count": 25,
   "metadata": {},
   "outputs": [
    {
     "name": "stdout",
     "output_type": "stream",
     "text": [
      "Altiz    定价 975,000\n",
      "Innovate 定价 733,700.0\n",
      "SUV      定价 1,380,000.0\n"
     ]
    }
   ],
   "source": [
    "#定义多态\n",
    "class Motor(): #父类\n",
    "    def __init__(self, name, price):\n",
    "        self.name = name\n",
    "        self.price = price\n",
    "\n",
    "    def equip(self):\n",
    "        return self.price*2\n",
    "\n",
    "    def show(self):\n",
    "        return self.name\n",
    "\n",
    "class sportCar(Motor):#子类\n",
    "    def equip(self): \n",
    "#         super().equip()\n",
    "        return self.price * 1.15 \n",
    "\n",
    "class Hybrid(Motor): #子类\n",
    "    def equip(self):\n",
    "#         super().equip()\n",
    "        return self.price *1.2\n",
    "altiz = Motor('Altiz', 487500) #父类对象\n",
    "print('{:8s} 定价 {:,}'.format(altiz.show(), altiz.equip()))\n",
    "\n",
    "inno = sportCar('Innovate', 638000) #子类对象\n",
    "print('{:8s} 定价 {:,}'.format(inno.show(), inno.equip()))\n",
    "\n",
    "suv = Hybrid('SUV', 1150000) #子类对象\n",
    "print('{:8s} 定价 {:,}'.format(suv.show(), suv.equip()))"
   ]
  },
  {
   "cell_type": "markdown",
   "metadata": {
    "toc-hr-collapsed": true
   },
   "source": [
    "## 重载"
   ]
  },
  {
   "cell_type": "markdown",
   "metadata": {},
   "source": [
    "### 重载操作方法add()、sub()\n",
    "* 重载运算符 __add__()，'+'左侧操作数必须是对象\n",
    "* 重载运算符 __radd__()， '+'左侧操作数可以是数值\n",
    "* 定义可原地相加的__iadd__()方法"
   ]
  },
  {
   "cell_type": "code",
   "execution_count": 26,
   "metadata": {},
   "outputs": [
    {
     "name": "stdout",
     "output_type": "stream",
     "text": [
      "相加： 275\n",
      "相减： 111\n"
     ]
    }
   ],
   "source": [
    "class Arithm:\n",
    "    def __init__(self, num):\n",
    "        self.value = num      \n",
    "\n",
    "    def __add__(self, num): #相加\n",
    "        return Arithm(self.value + num)\n",
    "\n",
    "    def __sub__(self, num): #相减\n",
    "        return Arithm(self.value - num)\n",
    "\n",
    "one = Arithm(255)\n",
    "result = one + 20\n",
    "print('相加：', result.value)\n",
    "result = one - 144\n",
    "print('相减：', result.value)"
   ]
  },
  {
   "cell_type": "markdown",
   "metadata": {},
   "source": [
    "### 重载比较运算符\n",
    "* 使用__gt__()、__lt__()、__eq__()进行比较"
   ]
  },
  {
   "cell_type": "code",
   "execution_count": 27,
   "metadata": {},
   "outputs": [
    {
     "name": "stdout",
     "output_type": "stream",
     "text": [
      "返回值： False\n",
      "返回值 False\n",
      "返回值 True\n"
     ]
    }
   ],
   "source": [
    "class Comp:\n",
    "    data = 743\n",
    "    def __gt__(self, value):# x > y\n",
    "        return self.data > value\n",
    "    def __lt__(self, value): # x < y\n",
    "        return self.data < value\n",
    "    def __eq__(self, value): # x == y\n",
    "        return self.data == value\n",
    "A = Comp()\n",
    "print('返回值：', A > 8865)\n",
    "print('返回值', A < 253)\n",
    "print('返回值', A == 743)"
   ]
  },
  {
   "cell_type": "markdown",
   "metadata": {},
   "source": [
    "### index运算"
   ]
  },
  {
   "cell_type": "code",
   "execution_count": 28,
   "metadata": {},
   "outputs": [
    {
     "name": "stdout",
     "output_type": "stream",
     "text": [
      "Index: 4\n",
      "1 4 9 索引值: 0 78\n",
      "索引值: 1 56\n",
      "索引值: 2 95\n",
      "索引值: 3 87\n",
      "索引值: 4 61\n",
      "索引值: 5 "
     ]
    }
   ],
   "source": [
    "class Group:\n",
    "    def __getitem__(self, index): #重载index之值\n",
    "        return index ** 2\n",
    "#创建对象\n",
    "it = Group()\n",
    "print('Index:', it[2])\n",
    "for item in range(1,4): #读取index值\n",
    "    print(it[item], end = ' ')\n",
    "    \n",
    "    \n",
    "class Student:\n",
    "    score = [78, 56, 95, 87, 61]\n",
    "    def __getitem__(self, index): #返回索引编号\n",
    "        print('索引值:', index, end = ' ')\n",
    "        return self.score[index]\n",
    "\n",
    "#创建对象\n",
    "Mary = Student()\n",
    "for index in Mary:\n",
    "    print(index)"
   ]
  },
  {
   "cell_type": "markdown",
   "metadata": {
    "toc-hr-collapsed": true
   },
   "source": [
    "# 数据可视化"
   ]
  },
  {
   "cell_type": "markdown",
   "metadata": {},
   "source": [
    "## matplotlib"
   ]
  },
  {
   "cell_type": "code",
   "execution_count": null,
   "metadata": {},
   "outputs": [],
   "source": []
  },
  {
   "cell_type": "markdown",
   "metadata": {
    "toc-hr-collapsed": false
   },
   "source": [
    "# 中级教程"
   ]
  },
  {
   "cell_type": "markdown",
   "metadata": {
    "toc-hr-collapsed": true
   },
   "source": [
    "## 多进程"
   ]
  },
  {
   "cell_type": "code",
   "execution_count": 29,
   "metadata": {},
   "outputs": [],
   "source": [
    "import numpy as np\n",
    "from time import  time\n",
    "import matplotlib.pyplot as plt\n",
    "import random\n",
    "import os\n",
    "from numba import jit\n",
    "from concurrent.futures import ProcessPoolExecutor\n",
    "from tqdm import tqdm"
   ]
  },
  {
   "cell_type": "code",
   "execution_count": 30,
   "metadata": {},
   "outputs": [],
   "source": [
    "\n",
    "def seed_everything(seed):\n",
    "    random.seed(seed)\n",
    "    os.environ['PYTHONHASHSEED'] = str(seed)\n",
    "    np.random.seed(seed)\n",
    "\n",
    "\n",
    "def add_noise_to_theta(anchors_coords, Targets, noise=1.0):\n",
    "\n",
    "    thea = np.array(\n",
    "    [np.arctan((Targets[0][1]-anchors_coords[j][1])/ (Targets[0][0] - anchors_coords[j][0]))\n",
    "     +random.gauss(0, noise) for j in range(anchors_coords.shape[0])])\n",
    "\n",
    "    return thea\n",
    "\n",
    "\n",
    "def generate_anchors(n_anchors=3):\n",
    "    xx = 0.15 + 0.8 * np.random.random((n_anchors, 2))\n",
    "    return xx\n",
    "\n",
    "def generate_targets():\n",
    "    targets = 0.85 * np.random.random((1,2)) + 0.1\n",
    "    return targets\n",
    "\n",
    "@jit\n",
    "def plot_example(image_size, anchors, theta, sigma):\n",
    "    img = np.zeros((image_size, image_size))\n",
    "    N = anchors.shape[0]\n",
    "    for i in range(image_size):\n",
    "        for j in range(image_size):\n",
    "            temp = 1.0\n",
    "            for n in range(N):\n",
    "                deta = np.arctan((j/image_size - anchors[n][1]) / (i/image_size - anchors[n][0]))\n",
    "                temp *= np.exp(-(deta-theta[n])**2/(2*sigma**2))\n",
    "            img[i, j] = temp\n",
    "    return img\n",
    "\n",
    "def job(i):\n",
    "\n",
    "    Targets = generate_targets()\n",
    "    anchors_coords = generate_anchors(n_anchors=n_anchors)\n",
    "    thetas = add_noise_to_theta(anchors_coords, Targets, my_gauss)\n",
    "    img = plot_example(image_size, anchors_coords, thetas, my_gauss)\n",
    "\n",
    "    return img"
   ]
  },
  {
   "cell_type": "code",
   "execution_count": 31,
   "metadata": {},
   "outputs": [
    {
     "name": "stderr",
     "output_type": "stream",
     "text": [
      "100%|██████████| 6000/6000 [00:56<00:00, 106.23it/s]"
     ]
    },
    {
     "name": "stdout",
     "output_type": "stream",
     "text": [
      "baseline total time is 56.483 s.\n"
     ]
    },
    {
     "name": "stderr",
     "output_type": "stream",
     "text": [
      "\n"
     ]
    }
   ],
   "source": [
    "\n",
    "n_anchors = 6\n",
    "my_gauss = 0.10\n",
    "image_size = 128\n",
    "examples = 6000\n",
    "\n",
    "start_time = time()\n",
    "for _ in tqdm(range(examples)):\n",
    "\n",
    "    Targets = generate_targets()\n",
    "    anchors_coords = generate_anchors(n_anchors=n_anchors)\n",
    "    thetas = add_noise_to_theta(anchors_coords, Targets, my_gauss)\n",
    "    img = plot_example(image_size, anchors_coords, thetas, my_gauss)\n",
    "print(\"baseline total time is %.3f s.\" %  (time() - start_time))"
   ]
  },
  {
   "cell_type": "markdown",
   "metadata": {},
   "source": [
    "### ProcessPoolExecutor加速"
   ]
  },
  {
   "cell_type": "code",
   "execution_count": 32,
   "metadata": {},
   "outputs": [
    {
     "name": "stdout",
     "output_type": "stream",
     "text": [
      "results shape: (6000, 128, 128)\n",
      "process total time: 24.783 s.\n"
     ]
    }
   ],
   "source": [
    "\n",
    "def datasets(nprocesser= 4):\n",
    "    with ProcessPoolExecutor(max_workers= nprocesser) as executor:\n",
    "        images = []\n",
    "        for number, img in zip( list(range(examples)), executor.map(job, list(range(examples)))):\n",
    "            images.append(img)\n",
    "    return np.array(images)\n",
    "\n",
    "start_time = time()\n",
    "results = datasets()\n",
    "print(\"results shape:\", results.shape)\n",
    "print(\"process total time: %.3f s.\" %(time() - start_time))"
   ]
  },
  {
   "cell_type": "markdown",
   "metadata": {},
   "source": [
    "### pathos加速"
   ]
  },
  {
   "cell_type": "code",
   "execution_count": 33,
   "metadata": {},
   "outputs": [
    {
     "name": "stderr",
     "output_type": "stream",
     "text": [
      "6000it [00:23, 254.63it/s]           \n"
     ]
    },
    {
     "name": "stdout",
     "output_type": "stream",
     "text": [
      "results shape: (6000, 128, 128)\n",
      "process total time: 24.008 s.\n"
     ]
    }
   ],
   "source": [
    "from pathos.multiprocessing import ProcessingPool as Pool\n",
    "\n",
    "def datasets_v1(nprocesser= 4):\n",
    "    pool = Pool(nprocesser)\n",
    "    with tqdm(total=nprocesser) as t:\n",
    "        images = []\n",
    "        for number, img in enumerate(pool.imap(job, list(range(examples)))):\n",
    "            images.append(img)\n",
    "            t.update()\n",
    "    pool.close()\n",
    "    pool.join()\n",
    "    return np.array(images)\n",
    "\n",
    "\n",
    "start_time = time()\n",
    "results = datasets_v1()\n",
    "print(\"results shape:\", results.shape)\n",
    "print(\"process total time: %.3f s.\" %(time() - start_time))"
   ]
  },
  {
   "cell_type": "markdown",
   "metadata": {},
   "source": [
    "## 对输入的字符串“消毒”"
   ]
  },
  {
   "cell_type": "code",
   "execution_count": 2,
   "metadata": {},
   "outputs": [
    {
     "data": {
      "text/plain": [
       "'This string has some whitespaces... '"
      ]
     },
     "execution_count": 2,
     "metadata": {},
     "output_type": "execute_result"
    }
   ],
   "source": [
    "user_input = \"This\\nstring has\\tsome whitespaces...\\r\\n\"\n",
    "\n",
    "character_map = {\n",
    " ord('\\n') : ' ',\n",
    " ord('\\t') : ' ',\n",
    " ord('\\r') : None\n",
    "}\n",
    "zz = user_input.translate(character_map)\n",
    "zz"
   ]
  },
  {
   "cell_type": "markdown",
   "metadata": {},
   "source": [
    "## 对迭代器切片"
   ]
  },
  {
   "cell_type": "code",
   "execution_count": 3,
   "metadata": {},
   "outputs": [
    {
     "name": "stdout",
     "output_type": "stream",
     "text": [
      "10\n",
      "11\n"
     ]
    }
   ],
   "source": [
    "import itertools\n",
    "\n",
    "s = itertools.islice(range(50), 10, 12)  # <itertools.islice object at 0x7f70fab88138>\n",
    "for val in s:\n",
    "    print(val)"
   ]
  },
  {
   "cell_type": "markdown",
   "metadata": {},
   "source": [
    "## 跳过可迭代对象的开始"
   ]
  },
  {
   "cell_type": "code",
   "execution_count": 4,
   "metadata": {},
   "outputs": [
    {
     "name": "stdout",
     "output_type": "stream",
     "text": [
      "\n",
      "// Author: ...\n",
      "// License: ...\n",
      "//\n",
      "// Date: ...\n",
      "\n",
      "Actual content...\n",
      "\n"
     ]
    }
   ],
   "source": [
    "string_from_file = \"\"\"\n",
    "// Author: ...\n",
    "// License: ...\n",
    "//\n",
    "// Date: ...\n",
    "\n",
    "Actual content...\n",
    "\"\"\"\n",
    "\n",
    "import itertools\n",
    "\n",
    "for line in itertools.dropwhile(lambda line:line.startswith(\"//\"), string_from_file.split(\"\\n\")):\n",
    "    print(line)"
   ]
  },
  {
   "cell_type": "markdown",
   "metadata": {},
   "source": [
    "## 仅支持关键字参数（kwargs）的函数"
   ]
  },
  {
   "cell_type": "code",
   "execution_count": 7,
   "metadata": {},
   "outputs": [
    {
     "name": "stdout",
     "output_type": "stream",
     "text": [
      "valuevalue 2\n"
     ]
    }
   ],
   "source": [
    "def test(*, a, b):\n",
    "    print(a+b)\n",
    "\n",
    "# test(\"value for a\", \"value for b\")  # TypeError: test() takes 0 positional arguments...\n",
    "test(a=\"value\", b=\"value 2\")  # Works..."
   ]
  },
  {
   "cell_type": "markdown",
   "metadata": {},
   "source": [
    "## 创建支持 with 语句的对象\n",
    "\n",
    "我们都知道如何使用 with 语句，例如打开文件或者是获取锁，但是我们可以实现自己的么？是的，我们可以使用__enter__ 和__exit__ 方法来实现上下文管理器协议：\n",
    "\n",
    "```\n",
    "class Connection:\n",
    " def __init__(self):\n",
    "  ...\n",
    "\n",
    " def __enter__(self):\n",
    "  # Initialize connection...\n",
    "\n",
    " def __exit__(self, type, value, traceback):\n",
    "  # Close connection...\n",
    "\n",
    "with Connection() as c:\n",
    " # __enter__() executes\n",
    " ...\n",
    " # conn.__exit__() executes\n",
    "```"
   ]
  },
  {
   "cell_type": "code",
   "execution_count": null,
   "metadata": {},
   "outputs": [],
   "source": [
    "from contextlib import contextmanager\n",
    "\n",
    "@contextmanager\n",
    "def tag(name):\n",
    " print(f\"<{name}>\")\n",
    " yield\n",
    " print(f\"</{name}>\")\n",
    "\n",
    "with tag(\"h1\"):\n",
    " print(\"This is Title.\")"
   ]
  },
  {
   "cell_type": "markdown",
   "metadata": {},
   "source": [
    "## 用__slots__节省内存\n",
    "\n",
    "当我们定义__slots__属性时，Python 使用固定大小的小型数组，而不是字典，这大大减少了每个实例所需的内存。使用__slots__还有一些缺点——我们无法声明任何新的属性，并且只能使用在__slots__中的属性。同样，带有__slots__的类不能使用多重继承。"
   ]
  },
  {
   "cell_type": "code",
   "execution_count": null,
   "metadata": {},
   "outputs": [],
   "source": [
    "class Person:\n",
    "    __slots__ = [\"first_name\", \"last_name\", \"phone\"]\n",
    "    def __init__(self, first_name, last_name, phone):\n",
    "    self.first_name = first_name\n",
    "    self.last_name = last_name\n",
    "    self.phone = phone"
   ]
  },
  {
   "cell_type": "markdown",
   "metadata": {},
   "source": [
    "## 限制CPU和内存使用量"
   ]
  },
  {
   "cell_type": "code",
   "execution_count": 8,
   "metadata": {},
   "outputs": [],
   "source": [
    "import signal\n",
    "import resource\n",
    "import os\n",
    "\n",
    "# To Limit CPU time\n",
    "def time_exceeded(signo, frame):\n",
    " print(\"CPU exceeded...\")\n",
    " raise SystemExit(1)\n",
    "\n",
    "def set_max_runtime(seconds):\n",
    "    # Install the signal handler and set a resource limit\n",
    "    soft, hard = resource.getrlimit(resource.RLIMIT_CPU)\n",
    "    resource.setrlimit(resource.RLIMIT_CPU, (seconds, hard))\n",
    "    signal.signal(signal.SIGXCPU, time_exceeded)\n",
    "\n",
    "# To limit memory usage\n",
    "def set_max_memory(size):\n",
    "    soft, hard = resource.getrlimit(resource.RLIMIT_AS)\n",
    "    resource.setrlimit(resource.RLIMIT_AS, (size, hard))"
   ]
  },
  {
   "cell_type": "markdown",
   "metadata": {},
   "source": [
    "## 比较运算符的简便方法\n",
    "\n",
    "这到底如何起作用的？total_ordering 装饰器用于简化为我们的类实例实现排序的过程。只需要定义__lt__ 和__eq__，这是最低的要求，装饰器将映射剩余的操作——它为我们填补了空白。"
   ]
  },
  {
   "cell_type": "code",
   "execution_count": null,
   "metadata": {},
   "outputs": [],
   "source": [
    "from functools import total_ordering\n",
    "\n",
    "@total_ordering\n",
    "class Number:\n",
    " def __init__(self, value):\n",
    "  self.value = value\n",
    "\n",
    " def __lt__(self, other):\n",
    "  return self.value < other.value\n",
    "\n",
    " def __eq__(self, other):\n",
    "  return self.value == other.value\n",
    "\n",
    "print(Number(20) > Number(3))\n",
    "print(Number(1) < Number(5))\n",
    "print(Number(15) >= Number(15))\n",
    "print(Number(10) <= Number(2))"
   ]
  },
  {
   "cell_type": "markdown",
   "metadata": {},
   "source": [
    "## 使用slice函数命名切片"
   ]
  },
  {
   "cell_type": "code",
   "execution_count": 9,
   "metadata": {},
   "outputs": [],
   "source": [
    "# ID   First Name   Last Name\n",
    "line_record = \"2        John         Smith\"\n",
    "\n",
    "ID = slice(0, 8)\n",
    "FIRST_NAME = slice(9, 21)\n",
    "LAST_NAME = slice(22, 27)\n",
    "\n",
    "name = f\"{line_record[FIRST_NAME].strip()} {line_record[LAST_NAME].strip()}\"\n",
    "# name == \"John Smith\""
   ]
  },
  {
   "cell_type": "markdown",
   "metadata": {},
   "source": [
    "## 查找单词/字符串的相近匹配"
   ]
  },
  {
   "cell_type": "code",
   "execution_count": null,
   "metadata": {},
   "outputs": [],
   "source": [
    "import difflib\n",
    "difflib.get_close_matches('appel', ['ape', 'apple', 'peach', 'puppy'], n=2)\n",
    "# returns ['apple', 'ape']"
   ]
  },
  {
   "cell_type": "markdown",
   "metadata": {},
   "source": [
    "## 在一个类中定义多个构造函数\n",
    "\n",
    "函数重载是编程语言（不含 Python）中非常常见的功能。即使你不能重载正常的函数，你仍然可以使用类方法重载构造函数"
   ]
  },
  {
   "cell_type": "code",
   "execution_count": null,
   "metadata": {},
   "outputs": [],
   "source": [
    "import datetime\n",
    "\n",
    "class Date:\n",
    "    def __init__(self, year, month, day):\n",
    "        self.year = year\n",
    "        self.month = month\n",
    "        self.day = day\n",
    "\n",
    "    @classmethod\n",
    "    def today(cls):\n",
    "        t = datetime.datetime.now()\n",
    "        return cls(t.year, t.month, t.day)\n",
    "\n",
    "d = Date.today()\n",
    "print(f\"{d.day}/{d.month}/{d.year}\")"
   ]
  },
  {
   "cell_type": "markdown",
   "metadata": {},
   "source": [
    "## 使用装饰器缓存函数调用\n",
    "\n",
    "你是否曾经编写过一种函数，它执行昂贵的 I/O 操作或一些相当慢的递归，而且该函数可能会受益于对其结果进行缓存（存储）？如果你有，那么有简单的解决方案，即使用 functools 的lru_cache "
   ]
  },
  {
   "cell_type": "code",
   "execution_count": 12,
   "metadata": {},
   "outputs": [
    {
     "name": "stdout",
     "output_type": "stream",
     "text": [
      "CacheInfo(hits=2, misses=4, maxsize=32, currsize=4)\n"
     ]
    }
   ],
   "source": [
    "from functools import lru_cache\n",
    "import requests\n",
    "\n",
    "@lru_cache(maxsize=32)\n",
    "def get_with_cache(url):\n",
    "    try:\n",
    "        r = requests.get(url)\n",
    "        return r.text\n",
    "    except:\n",
    "        return \"Not Found\"\n",
    "\n",
    "\n",
    "for url in [\"https://google.com/\",\n",
    "            \"https://martinheinz.dev/\",\n",
    "            \"https://reddit.com/\",\n",
    "            \"https://google.com/\",\n",
    "            \"https://dev.to/martinheinz\",\n",
    "            \"https://google.com/\"]:\n",
    "    get_with_cache(url)\n",
    "\n",
    "print(get_with_cache.cache_info())"
   ]
  },
  {
   "cell_type": "markdown",
   "metadata": {
    "toc-hr-collapsed": true
   },
   "source": [
    "# [高性能计算](https://www.zhihu.com/search?q=python%E6%80%A7%E8%83%BD%E5%8A%A0%E9%80%9F&utm_content=search_history&type=content)"
   ]
  },
  {
   "cell_type": "markdown",
   "metadata": {
    "toc-hr-collapsed": false
   },
   "source": [
    "## 查找"
   ]
  },
  {
   "cell_type": "markdown",
   "metadata": {},
   "source": [
    "### 用set而非list进行查找"
   ]
  },
  {
   "cell_type": "code",
   "execution_count": 34,
   "metadata": {},
   "outputs": [],
   "source": [
    "data = ( i**2 + 1 for i in range(1000000))\n",
    "list_data = list(data)\n",
    "set_data = set(data)"
   ]
  },
  {
   "cell_type": "code",
   "execution_count": 35,
   "metadata": {},
   "outputs": [
    {
     "name": "stdout",
     "output_type": "stream",
     "text": [
      "CPU times: user 16 ms, sys: 0 ns, total: 16 ms\n",
      "Wall time: 14.4 ms\n"
     ]
    },
    {
     "data": {
      "text/plain": [
       "False"
      ]
     },
     "execution_count": 35,
     "metadata": {},
     "output_type": "execute_result"
    }
   ],
   "source": [
    "%%time\n",
    "1098987 in list_data"
   ]
  },
  {
   "cell_type": "code",
   "execution_count": 36,
   "metadata": {},
   "outputs": [
    {
     "name": "stdout",
     "output_type": "stream",
     "text": [
      "CPU times: user 0 ns, sys: 0 ns, total: 0 ns\n",
      "Wall time: 14.3 µs\n"
     ]
    },
    {
     "data": {
      "text/plain": [
       "False"
      ]
     },
     "execution_count": 36,
     "metadata": {},
     "output_type": "execute_result"
    }
   ],
   "source": [
    "%%time\n",
    "1098987 in set_data"
   ]
  },
  {
   "cell_type": "markdown",
   "metadata": {},
   "source": [
    "### 用dict而非两个list进行匹配查找"
   ]
  },
  {
   "cell_type": "code",
   "execution_count": 37,
   "metadata": {},
   "outputs": [],
   "source": [
    "list_a = [i*2 - 1 for i in range(100000)]\n",
    "list_b  = [i**2 for i in list_a]\n",
    "dict_ab = dict(zip(list_a,list_b))"
   ]
  },
  {
   "cell_type": "code",
   "execution_count": 38,
   "metadata": {},
   "outputs": [
    {
     "name": "stdout",
     "output_type": "stream",
     "text": [
      "7683749649\n",
      "CPU times: user 4 ms, sys: 0 ns, total: 4 ms\n",
      "Wall time: 2.11 ms\n"
     ]
    }
   ],
   "source": [
    "%%time\n",
    "print(list_b[list_a.index(87657)])"
   ]
  },
  {
   "cell_type": "code",
   "execution_count": 39,
   "metadata": {},
   "outputs": [
    {
     "name": "stdout",
     "output_type": "stream",
     "text": [
      "76825225\n",
      "CPU times: user 0 ns, sys: 0 ns, total: 0 ns\n",
      "Wall time: 114 µs\n"
     ]
    }
   ],
   "source": [
    "%%time\n",
    "print(dict_ab.get(8765,None))"
   ]
  },
  {
   "cell_type": "markdown",
   "metadata": {},
   "source": [
    "## 在循环体中避免重复计算"
   ]
  },
  {
   "cell_type": "code",
   "execution_count": 40,
   "metadata": {},
   "outputs": [
    {
     "name": "stdout",
     "output_type": "stream",
     "text": [
      "CPU times: user 812 ms, sys: 0 ns, total: 812 ms\n",
      "Wall time: 809 ms\n"
     ]
    }
   ],
   "source": [
    "%%time\n",
    "list_a = list(range(10100))\n",
    "b= [i/sum(list_a) for i in list_a]"
   ]
  },
  {
   "cell_type": "code",
   "execution_count": 41,
   "metadata": {},
   "outputs": [
    {
     "name": "stdout",
     "output_type": "stream",
     "text": [
      "CPU times: user 4 ms, sys: 0 ns, total: 4 ms\n",
      "Wall time: 973 µs\n"
     ]
    }
   ],
   "source": [
    "%%time\n",
    "sum_a = sum(list_a)\n",
    "b= [i/sum_a for i in list_a]"
   ]
  },
  {
   "cell_type": "markdown",
   "metadata": {},
   "source": [
    "## 用缓存机制加速递归函数"
   ]
  },
  {
   "cell_type": "code",
   "execution_count": 42,
   "metadata": {},
   "outputs": [
    {
     "name": "stdout",
     "output_type": "stream",
     "text": [
      "CPU times: user 812 ms, sys: 0 ns, total: 812 ms\n",
      "Wall time: 812 ms\n"
     ]
    }
   ],
   "source": [
    "%%time\n",
    "\n",
    "def run():\n",
    "    list_a = list(range(10100))\n",
    "    b= [i/sum(list_a) for i in list_a]\n",
    "\n",
    "run()"
   ]
  },
  {
   "cell_type": "code",
   "execution_count": 43,
   "metadata": {},
   "outputs": [],
   "source": [
    "from functools import lru_cache"
   ]
  },
  {
   "cell_type": "code",
   "execution_count": 44,
   "metadata": {},
   "outputs": [
    {
     "name": "stdout",
     "output_type": "stream",
     "text": [
      "CPU times: user 820 ms, sys: 0 ns, total: 820 ms\n",
      "Wall time: 820 ms\n"
     ]
    }
   ],
   "source": [
    "%%time\n",
    "@lru_cache(100)\n",
    "def run():\n",
    "    list_a = list(range(10100))\n",
    "    b= [i/sum(list_a) for i in list_a]\n",
    "run()"
   ]
  },
  {
   "cell_type": "markdown",
   "metadata": {},
   "source": [
    "## 使用map代替推导式进行加速"
   ]
  },
  {
   "cell_type": "code",
   "execution_count": 45,
   "metadata": {},
   "outputs": [
    {
     "name": "stdout",
     "output_type": "stream",
     "text": [
      "CPU times: user 16 ms, sys: 4 ms, total: 20 ms\n",
      "Wall time: 17.8 ms\n"
     ]
    }
   ],
   "source": [
    "%%time\n",
    "list_a = [i*2 - 1 for i in range(100000)]"
   ]
  },
  {
   "cell_type": "code",
   "execution_count": 46,
   "metadata": {},
   "outputs": [
    {
     "name": "stdout",
     "output_type": "stream",
     "text": [
      "CPU times: user 0 ns, sys: 0 ns, total: 0 ns\n",
      "Wall time: 1.63 ms\n"
     ]
    }
   ],
   "source": [
    "%%time\n",
    "list_a = map(lambda x:x*2-1, range(100000))"
   ]
  },
  {
   "cell_type": "markdown",
   "metadata": {},
   "source": [
    "## 使用np.ufunc代替math.func"
   ]
  },
  {
   "cell_type": "code",
   "execution_count": 47,
   "metadata": {},
   "outputs": [],
   "source": [
    "# np.where(x>0,x,0) 代替 x if x>0 else 0"
   ]
  },
  {
   "cell_type": "markdown",
   "metadata": {},
   "source": [
    "## 使用pandas多进程工具pandarallel"
   ]
  },
  {
   "cell_type": "code",
   "execution_count": 48,
   "metadata": {},
   "outputs": [],
   "source": [
    "import pandas as pd\n",
    "import numpy as np\n",
    "from pandarallel import pandarallel\n",
    "df =pd.DataFrame(np.random.randint(-10,11,size=(100000, 26)), columns=list('abcdefghijklmnopkrstuvwxyz'))"
   ]
  },
  {
   "cell_type": "code",
   "execution_count": 49,
   "metadata": {},
   "outputs": [
    {
     "name": "stdout",
     "output_type": "stream",
     "text": [
      "CPU times: user 11.3 s, sys: 40 ms, total: 11.3 s\n",
      "Wall time: 11.3 s\n"
     ]
    }
   ],
   "source": [
    "%%time\n",
    "results = df.apply(np.sum, axis =1)"
   ]
  },
  {
   "cell_type": "code",
   "execution_count": 50,
   "metadata": {},
   "outputs": [
    {
     "name": "stdout",
     "output_type": "stream",
     "text": [
      "INFO: Pandarallel will run on 4 workers.\n",
      "INFO: Pandarallel will use Memory file system to transfer data between the main process and workers.\n",
      "CPU times: user 40 ms, sys: 84 ms, total: 124 ms\n",
      "Wall time: 5.4 s\n"
     ]
    }
   ],
   "source": [
    "%%time\n",
    "pandarallel.initialize(nb_workers= 4)\n",
    "results = df.parallel_apply(np.sum, axis =1)"
   ]
  },
  {
   "cell_type": "markdown",
   "metadata": {},
   "source": [
    "## 应用多线程加速IO密集型任务"
   ]
  },
  {
   "cell_type": "code",
   "execution_count": 51,
   "metadata": {},
   "outputs": [
    {
     "name": "stdout",
     "output_type": "stream",
     "text": [
      "CPU times: user 4 ms, sys: 0 ns, total: 4 ms\n",
      "Wall time: 4.74 ms\n"
     ]
    }
   ],
   "source": [
    "%%time\n",
    "def wirtefile(name):\n",
    "    with open(name+\".txt\",\"w\") as f:\n",
    "        s= (\"hello %s\" % name) * 10000\n",
    "        f.write(s)\n",
    "\n",
    "for i in range(10):\n",
    "    wirtefile(\"%d\" %i)"
   ]
  },
  {
   "cell_type": "code",
   "execution_count": 52,
   "metadata": {},
   "outputs": [],
   "source": [
    "!rm -rf *.txt"
   ]
  },
  {
   "cell_type": "code",
   "execution_count": 53,
   "metadata": {},
   "outputs": [
    {
     "name": "stdout",
     "output_type": "stream",
     "text": [
      "CPU times: user 4 ms, sys: 0 ns, total: 4 ms\n",
      "Wall time: 8.51 ms\n"
     ]
    }
   ],
   "source": [
    "%%time\n",
    "\n",
    "import threading\n",
    "def wirtefile(name):\n",
    "    with open(name+\".txt\",\"w\") as f:\n",
    "        s= (\"hello %s\" % name) * 10000\n",
    "        f.write(s)\n",
    "        \n",
    "threading_list = []\n",
    "for i in range(10):\n",
    "    t = threading.Thread(target=wirtefile, args=(\"%d\"%i,))\n",
    "    t.setDaemon(True)\n",
    "    threading_list.append(t)\n",
    "\n",
    "for t in threading_list:\n",
    "    t.start()\n",
    "    \n",
    "for t in threading_list:\n",
    "    t.join()\n",
    "    "
   ]
  },
  {
   "cell_type": "code",
   "execution_count": 54,
   "metadata": {},
   "outputs": [],
   "source": [
    "!rm -rf *.txt"
   ]
  },
  {
   "cell_type": "markdown",
   "metadata": {},
   "source": [
    "### numba加速"
   ]
  },
  {
   "cell_type": "code",
   "execution_count": 55,
   "metadata": {},
   "outputs": [],
   "source": [
    "# @jit 处理for循环"
   ]
  },
  {
   "cell_type": "markdown",
   "metadata": {
    "toc-hr-collapsed": true
   },
   "source": [
    "# 性能分析工具"
   ]
  },
  {
   "cell_type": "markdown",
   "metadata": {},
   "source": [
    "## profile"
   ]
  },
  {
   "cell_type": "code",
   "execution_count": 56,
   "metadata": {},
   "outputs": [
    {
     "name": "stdout",
     "output_type": "stream",
     "text": [
      "333283335000\n",
      "         40 function calls in 0.004 seconds\n",
      "\n",
      "   Ordered by: standard name\n",
      "\n",
      "   ncalls  tottime  percall  cumtime  percall filename:lineno(function)\n",
      "        3    0.000    0.000    0.000    0.000 :0(acquire)\n",
      "        3    0.000    0.000    0.000    0.000 :0(append)\n",
      "        1    0.000    0.000    0.003    0.003 :0(exec)\n",
      "        2    0.000    0.000    0.000    0.000 :0(getpid)\n",
      "        2    0.000    0.000    0.000    0.000 :0(isinstance)\n",
      "        1    0.000    0.000    0.000    0.000 :0(print)\n",
      "        1    0.000    0.000    0.000    0.000 :0(setprofile)\n",
      "        1    0.003    0.003    0.003    0.003 <ipython-input-56-f9eb4fc47f98>:5(bbb)\n",
      "        1    0.000    0.000    0.003    0.003 <string>:1(<module>)\n",
      "        3    0.000    0.000    0.000    0.000 iostream.py:197(schedule)\n",
      "        2    0.000    0.000    0.000    0.000 iostream.py:309(_is_master_process)\n",
      "        2    0.000    0.000    0.000    0.000 iostream.py:322(_schedule_flush)\n",
      "        2    0.000    0.000    0.000    0.000 iostream.py:384(write)\n",
      "        3    0.000    0.000    0.000    0.000 iostream.py:93(_event_pipe)\n",
      "        1    0.000    0.000    0.004    0.004 profile:0(bbb())\n",
      "        0    0.000             0.000          profile:0(profiler)\n",
      "        3    0.000    0.000    0.000    0.000 socket.py:342(send)\n",
      "        3    0.000    0.000    0.000    0.000 threading.py:1038(_wait_for_tstate_lock)\n",
      "        3    0.000    0.000    0.000    0.000 threading.py:1080(is_alive)\n",
      "        3    0.000    0.000    0.000    0.000 threading.py:507(is_set)\n",
      "\n",
      "\n"
     ]
    }
   ],
   "source": [
    "import sys\n",
    "import numpy as np\n",
    "import profile\n",
    "\n",
    "def bbb():\n",
    "  sum = 0\n",
    "  for i in range(10000):\n",
    "    sum += i ** 2\n",
    "  print(sum)\n",
    "\n",
    "def aaa():\n",
    "  print(np.sum([i ** 2 for i in range(10000)]))\n",
    "\n",
    "profile.run('bbb()')\n",
    "# aaa()"
   ]
  },
  {
   "cell_type": "markdown",
   "metadata": {},
   "source": [
    "## cProfile"
   ]
  },
  {
   "cell_type": "code",
   "execution_count": 57,
   "metadata": {},
   "outputs": [
    {
     "name": "stdout",
     "output_type": "stream",
     "text": [
      "         4 function calls in 0.014 seconds\n",
      "\n",
      "   Ordered by: standard name\n",
      "\n",
      "   ncalls  tottime  percall  cumtime  percall filename:lineno(function)\n",
      "        1    0.014    0.014    0.014    0.014 <ipython-input-57-12c7dc24b912>:3(fun)\n",
      "        1    0.000    0.000    0.014    0.014 <string>:1(<module>)\n",
      "        1    0.000    0.000    0.014    0.014 {built-in method builtins.exec}\n",
      "        1    0.000    0.000    0.000    0.000 {method 'disable' of '_lsprof.Profiler' objects}\n",
      "\n",
      "\n"
     ]
    }
   ],
   "source": [
    "import cProfile\n",
    "\n",
    "def fun():\n",
    "    for i in range(100000):\n",
    "        a = i * i\n",
    "cProfile.run('fun()')"
   ]
  },
  {
   "cell_type": "markdown",
   "metadata": {},
   "source": [
    "## memory_profiler\n",
    "* 在需要测试的函数加上@profile装饰\n",
    "* 执行命令： python -m memory_profiler yourcode.py"
   ]
  },
  {
   "cell_type": "markdown",
   "metadata": {},
   "source": [
    "## timeit"
   ]
  },
  {
   "cell_type": "code",
   "execution_count": 58,
   "metadata": {},
   "outputs": [
    {
     "data": {
      "text/plain": [
       "0.07143871199878049"
      ]
     },
     "execution_count": 58,
     "metadata": {},
     "output_type": "execute_result"
    }
   ],
   "source": [
    "import timeit\n",
    "def fun():\n",
    "    for i in range(100000):\n",
    "        a = i * i\n",
    "timeit.timeit('fun()', 'from __main__ import fun', number=10)"
   ]
  },
  {
   "cell_type": "markdown",
   "metadata": {},
   "source": [
    "## vprof\n",
    "* vprof -c cmh yourcode.py --output-file profile.json"
   ]
  }
 ],
 "metadata": {
  "kernelspec": {
   "display_name": "Python 3",
   "language": "python",
   "name": "python3"
  },
  "language_info": {
   "codemirror_mode": {
    "name": "ipython",
    "version": 3
   },
   "file_extension": ".py",
   "mimetype": "text/x-python",
   "name": "python",
   "nbconvert_exporter": "python",
   "pygments_lexer": "ipython3",
   "version": "3.7.3"
  },
  "toc-autonumbering": true,
  "toc-showmarkdowntxt": true
 },
 "nbformat": 4,
 "nbformat_minor": 4
}
